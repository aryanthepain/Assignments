{
  "cells": [
    {
      "cell_type": "markdown",
      "source": [
        "# Lab Assignment 2\n",
        "\n",
        "- Name - Aryan Gupta\n",
        "- Roll No.- 230150003\n",
        "- Date - 6 Aug, 2025\n",
        "- Course - DA331 Big Data Analytics: Tools & Techniques"
      ],
      "metadata": {
        "id": "bR1yMsQxqmLp"
      }
    },
    {
      "cell_type": "markdown",
      "source": [
        "## Import Library"
      ],
      "metadata": {
        "id": "WYGWPDlLrczV"
      }
    },
    {
      "cell_type": "code",
      "source": [
        "# Install Spark\n",
        "!pip install pyspark\n",
        "# !pip install pyspark[sql]"
      ],
      "metadata": {
        "colab": {
          "base_uri": "https://localhost:8080/"
        },
        "id": "pdfRxE78rVAy",
        "outputId": "86679910-c5b5-4427-d949-2b46b0a10634"
      },
      "execution_count": 144,
      "outputs": [
        {
          "output_type": "stream",
          "name": "stdout",
          "text": [
            "Requirement already satisfied: pyspark in /usr/local/lib/python3.11/dist-packages (3.5.1)\n",
            "Requirement already satisfied: py4j==0.10.9.7 in /usr/local/lib/python3.11/dist-packages (from pyspark) (0.10.9.7)\n"
          ]
        }
      ]
    },
    {
      "cell_type": "code",
      "source": [
        "# import pyspark.sql classes and functions\n",
        "import pyspark\n",
        "from pyspark.sql import SparkSession\n",
        "from pyspark.sql.types import StructType, StructField, StringType, IntegerType\n",
        "from pyspark.sql.types import ArrayType, DoubleType, BooleanType\n",
        "from pyspark.sql.functions import col, array_contains, isnan, when, count\n",
        "from pyspark.sql.functions import lit, concat_ws, concat, collect_list, udf\n",
        "from pyspark.sql.functions import countDistinct\n",
        "from pyspark.sql.functions import max, corr\n",
        "\n",
        "# time library\n",
        "import time\n",
        "\n",
        "# pandas\n",
        "import pandas as pd\n",
        "\n",
        "spark = SparkSession.builder.appName(\"answers\").getOrCreate()"
      ],
      "metadata": {
        "id": "h1DBOegerjXm"
      },
      "execution_count": 145,
      "outputs": []
    },
    {
      "cell_type": "markdown",
      "source": [
        "## Load Data"
      ],
      "metadata": {
        "id": "cn6TM5uTr6J3"
      }
    },
    {
      "cell_type": "code",
      "source": [
        "# Get where the session is built\n",
        "!pwd"
      ],
      "metadata": {
        "colab": {
          "base_uri": "https://localhost:8080/"
        },
        "id": "yrL-xH8Drxs9",
        "outputId": "cd66906d-45fd-4a4c-d306-cdd39bfedf8f"
      },
      "execution_count": 146,
      "outputs": [
        {
          "output_type": "stream",
          "name": "stdout",
          "text": [
            "/content\n"
          ]
        }
      ]
    },
    {
      "cell_type": "code",
      "source": [
        "# Define path\n",
        "path = \"./sample_data/california_housing_train.csv\""
      ],
      "metadata": {
        "id": "J4LCECWwsOvj"
      },
      "execution_count": 147,
      "outputs": []
    },
    {
      "cell_type": "markdown",
      "source": [
        "### Get the feel of the data"
      ],
      "metadata": {
        "id": "2atkIcxvshbW"
      }
    },
    {
      "cell_type": "code",
      "source": [
        "df = spark.read.option(\"header\",'True').option('delimiter', ',').csv(path)\n",
        "df.show()\n",
        "df.printSchema()"
      ],
      "metadata": {
        "colab": {
          "base_uri": "https://localhost:8080/"
        },
        "id": "9xx0-Q2_sezf",
        "outputId": "0c847b65-edc4-469d-bfed-9e93440e0957"
      },
      "execution_count": 148,
      "outputs": [
        {
          "output_type": "stream",
          "name": "stdout",
          "text": [
            "+-----------+---------+------------------+-----------+--------------+-----------+-----------+-------------+------------------+\n",
            "|  longitude| latitude|housing_median_age|total_rooms|total_bedrooms| population| households|median_income|median_house_value|\n",
            "+-----------+---------+------------------+-----------+--------------+-----------+-----------+-------------+------------------+\n",
            "|-114.310000|34.190000|         15.000000|5612.000000|   1283.000000|1015.000000| 472.000000|     1.493600|      66900.000000|\n",
            "|-114.470000|34.400000|         19.000000|7650.000000|   1901.000000|1129.000000| 463.000000|     1.820000|      80100.000000|\n",
            "|-114.560000|33.690000|         17.000000| 720.000000|    174.000000| 333.000000| 117.000000|     1.650900|      85700.000000|\n",
            "|-114.570000|33.640000|         14.000000|1501.000000|    337.000000| 515.000000| 226.000000|     3.191700|      73400.000000|\n",
            "|-114.570000|33.570000|         20.000000|1454.000000|    326.000000| 624.000000| 262.000000|     1.925000|      65500.000000|\n",
            "|-114.580000|33.630000|         29.000000|1387.000000|    236.000000| 671.000000| 239.000000|     3.343800|      74000.000000|\n",
            "|-114.580000|33.610000|         25.000000|2907.000000|    680.000000|1841.000000| 633.000000|     2.676800|      82400.000000|\n",
            "|-114.590000|34.830000|         41.000000| 812.000000|    168.000000| 375.000000| 158.000000|     1.708300|      48500.000000|\n",
            "|-114.590000|33.610000|         34.000000|4789.000000|   1175.000000|3134.000000|1056.000000|     2.178200|      58400.000000|\n",
            "|-114.600000|34.830000|         46.000000|1497.000000|    309.000000| 787.000000| 271.000000|     2.190800|      48100.000000|\n",
            "|-114.600000|33.620000|         16.000000|3741.000000|    801.000000|2434.000000| 824.000000|     2.679700|      86500.000000|\n",
            "|-114.600000|33.600000|         21.000000|1988.000000|    483.000000|1182.000000| 437.000000|     1.625000|      62000.000000|\n",
            "|-114.610000|34.840000|         48.000000|1291.000000|    248.000000| 580.000000| 211.000000|     2.157100|      48600.000000|\n",
            "|-114.610000|34.830000|         31.000000|2478.000000|    464.000000|1346.000000| 479.000000|     3.212000|      70400.000000|\n",
            "|-114.630000|32.760000|         15.000000|1448.000000|    378.000000| 949.000000| 300.000000|     0.858500|      45000.000000|\n",
            "|-114.650000|34.890000|         17.000000|2556.000000|    587.000000|1005.000000| 401.000000|     1.699100|      69100.000000|\n",
            "|-114.650000|33.600000|         28.000000|1678.000000|    322.000000| 666.000000| 256.000000|     2.965300|      94900.000000|\n",
            "|-114.650000|32.790000|         21.000000|  44.000000|     33.000000|  64.000000|  27.000000|     0.857100|      25000.000000|\n",
            "|-114.660000|32.740000|         17.000000|1388.000000|    386.000000| 775.000000| 320.000000|     1.204900|      44000.000000|\n",
            "|-114.670000|33.920000|         17.000000|  97.000000|     24.000000|  29.000000|  15.000000|     1.265600|      27500.000000|\n",
            "+-----------+---------+------------------+-----------+--------------+-----------+-----------+-------------+------------------+\n",
            "only showing top 20 rows\n",
            "\n",
            "root\n",
            " |-- longitude: string (nullable = true)\n",
            " |-- latitude: string (nullable = true)\n",
            " |-- housing_median_age: string (nullable = true)\n",
            " |-- total_rooms: string (nullable = true)\n",
            " |-- total_bedrooms: string (nullable = true)\n",
            " |-- population: string (nullable = true)\n",
            " |-- households: string (nullable = true)\n",
            " |-- median_income: string (nullable = true)\n",
            " |-- median_house_value: string (nullable = true)\n",
            "\n"
          ]
        }
      ]
    },
    {
      "cell_type": "markdown",
      "source": [
        "### Load actual schema"
      ],
      "metadata": {
        "id": "oMFXUMdxs1po"
      }
    },
    {
      "cell_type": "code",
      "source": [
        "# # define schema\n",
        "# schema = StructType() \\\n",
        "#       .add(\"longitude\",DoubleType(),True) \\\n",
        "#       .add(\"latitude\",DoubleType(),True) \\\n",
        "#       .add(\"housing_median_age\",DoubleType(),True) \\\n",
        "#       .add(\"total_rooms\",DoubleType(),True) \\\n",
        "#       .add(\"total_bedrooms\",DoubleType(),True) \\\n",
        "#       .add(\"population\",DoubleType(),True) \\\n",
        "#       .add(\"households\",DoubleType(),True) \\\n",
        "#       .add(\"median_income\",DoubleType(),True) \\\n",
        "#       .add(\"median_house_value\",DoubleType(),True) \\"
      ],
      "metadata": {
        "id": "dJDSaMGmsUXG"
      },
      "execution_count": 149,
      "outputs": []
    },
    {
      "cell_type": "code",
      "source": [
        "# df = spark.read.format(\"csv\") \\\n",
        "#       .option(\"header\", True) \\\n",
        "#       .option('delimiter', ',') \\\n",
        "#       .schema(schema) \\\n",
        "#       .load(\"/content/sample_data/california_housing_train.csv\")\n",
        "\n",
        "# df.printSchema()"
      ],
      "metadata": {
        "id": "sX2gKY-0tmU2"
      },
      "execution_count": 150,
      "outputs": []
    },
    {
      "cell_type": "markdown",
      "source": [
        "### OR change datatype of the columns"
      ],
      "metadata": {
        "id": "9XUsNuTLtoev"
      }
    },
    {
      "cell_type": "code",
      "source": [
        "columns = df.columns\n",
        "print(columns)"
      ],
      "metadata": {
        "colab": {
          "base_uri": "https://localhost:8080/"
        },
        "id": "OPdhRAkjsAmE",
        "outputId": "7b8e49b2-e781-489c-dab9-70df89ced383"
      },
      "execution_count": 151,
      "outputs": [
        {
          "output_type": "stream",
          "name": "stdout",
          "text": [
            "['longitude', 'latitude', 'housing_median_age', 'total_rooms', 'total_bedrooms', 'population', 'households', 'median_income', 'median_house_value']\n"
          ]
        }
      ]
    },
    {
      "cell_type": "code",
      "source": [
        "for one_col in columns:\n",
        "  df = df.withColumn(one_col, col(one_col).cast(DoubleType()))\n",
        "df.printSchema()\n",
        "df.show(5)"
      ],
      "metadata": {
        "colab": {
          "base_uri": "https://localhost:8080/"
        },
        "id": "8MGq7lk6sIAP",
        "outputId": "91bbfd9b-bafe-46b2-be1a-6d36b1716472"
      },
      "execution_count": 152,
      "outputs": [
        {
          "output_type": "stream",
          "name": "stdout",
          "text": [
            "root\n",
            " |-- longitude: double (nullable = true)\n",
            " |-- latitude: double (nullable = true)\n",
            " |-- housing_median_age: double (nullable = true)\n",
            " |-- total_rooms: double (nullable = true)\n",
            " |-- total_bedrooms: double (nullable = true)\n",
            " |-- population: double (nullable = true)\n",
            " |-- households: double (nullable = true)\n",
            " |-- median_income: double (nullable = true)\n",
            " |-- median_house_value: double (nullable = true)\n",
            "\n",
            "+---------+--------+------------------+-----------+--------------+----------+----------+-------------+------------------+\n",
            "|longitude|latitude|housing_median_age|total_rooms|total_bedrooms|population|households|median_income|median_house_value|\n",
            "+---------+--------+------------------+-----------+--------------+----------+----------+-------------+------------------+\n",
            "|  -114.31|   34.19|              15.0|     5612.0|        1283.0|    1015.0|     472.0|       1.4936|           66900.0|\n",
            "|  -114.47|    34.4|              19.0|     7650.0|        1901.0|    1129.0|     463.0|         1.82|           80100.0|\n",
            "|  -114.56|   33.69|              17.0|      720.0|         174.0|     333.0|     117.0|       1.6509|           85700.0|\n",
            "|  -114.57|   33.64|              14.0|     1501.0|         337.0|     515.0|     226.0|       3.1917|           73400.0|\n",
            "|  -114.57|   33.57|              20.0|     1454.0|         326.0|     624.0|     262.0|        1.925|           65500.0|\n",
            "+---------+--------+------------------+-----------+--------------+----------+----------+-------------+------------------+\n",
            "only showing top 5 rows\n",
            "\n"
          ]
        }
      ]
    },
    {
      "cell_type": "markdown",
      "source": [
        "## Show Summary"
      ],
      "metadata": {
        "id": "jZq573h0vHf9"
      }
    },
    {
      "cell_type": "code",
      "source": [
        "df.summary().show()"
      ],
      "metadata": {
        "colab": {
          "base_uri": "https://localhost:8080/"
        },
        "id": "YxqI3hIxvIWh",
        "outputId": "04b55a6b-b74c-4a40-b9ab-b05799769132"
      },
      "execution_count": 153,
      "outputs": [
        {
          "output_type": "stream",
          "name": "stdout",
          "text": [
            "+-------+-------------------+------------------+------------------+-----------------+-----------------+------------------+-----------------+------------------+------------------+\n",
            "|summary|          longitude|          latitude|housing_median_age|      total_rooms|   total_bedrooms|        population|       households|     median_income|median_house_value|\n",
            "+-------+-------------------+------------------+------------------+-----------------+-----------------+------------------+-----------------+------------------+------------------+\n",
            "|  count|              17000|             17000|             17000|            17000|            17000|             17000|            17000|             17000|             17000|\n",
            "|   mean|-119.56210823529375|  35.6252247058827| 28.58935294117647|2643.664411764706|539.4108235294118|1429.5739411764705|501.2219411764706| 3.883578100000021|207300.91235294117|\n",
            "| stddev| 2.0051664084260357|2.1373397946570867|12.586936981660406|2179.947071452777|421.4994515798648| 1147.852959159527|384.5208408559016|1.9081565183791036|115983.76438720895|\n",
            "|    min|            -124.35|             32.54|               1.0|              2.0|              1.0|               3.0|              1.0|            0.4999|           14999.0|\n",
            "|    25%|            -121.79|             33.93|              18.0|           1462.0|            297.0|             789.0|            282.0|            2.5662|          119400.0|\n",
            "|    50%|            -118.49|             34.25|              29.0|           2127.0|            434.0|            1167.0|            409.0|            3.5445|          180400.0|\n",
            "|    75%|             -118.0|             37.72|              37.0|           3150.0|            648.0|            1720.0|            605.0|            4.7639|          265000.0|\n",
            "|    max|            -114.31|             41.95|              52.0|          37937.0|           6445.0|           35682.0|           6082.0|           15.0001|          500001.0|\n",
            "+-------+-------------------+------------------+------------------+-----------------+-----------------+------------------+-----------------+------------------+------------------+\n",
            "\n"
          ]
        }
      ]
    },
    {
      "cell_type": "markdown",
      "source": [
        "## 1.) Average number of household for different geolocation"
      ],
      "metadata": {
        "id": "KHsmR2A7vUtm"
      }
    },
    {
      "cell_type": "code",
      "source": [
        "geolocation = [\"longitude\", \"latitude\"]\n",
        "\n",
        "sparkTimeStart = time.time()\n",
        "avgHouseholdDF = df.groupBy(geolocation).agg({\"households\": \"avg\"})\n",
        "sparkTimeEnd = time.time()\n",
        "sparkTime = sparkTimeEnd - sparkTimeStart\n",
        "\n",
        "avgHouseholdDF.show()"
      ],
      "metadata": {
        "colab": {
          "base_uri": "https://localhost:8080/"
        },
        "id": "_rTtZUvovMS7",
        "outputId": "2382dc52-0cee-4e0a-d589-d73751d514c9"
      },
      "execution_count": 154,
      "outputs": [
        {
          "output_type": "stream",
          "name": "stdout",
          "text": [
            "+---------+--------+-----------------+\n",
            "|longitude|latitude|  avg(households)|\n",
            "+---------+--------+-----------------+\n",
            "|  -116.09|   34.15|           1482.0|\n",
            "|  -116.31|   33.66|            713.0|\n",
            "|   -116.9|   33.22|            703.0|\n",
            "|  -116.96|   32.86|            503.0|\n",
            "|  -116.97|   32.76|            406.0|\n",
            "|  -116.99|   33.77|           1689.0|\n",
            "|  -117.03|   33.18|            830.0|\n",
            "|  -117.19|   33.69|           1074.0|\n",
            "|   -117.2|   34.24|            423.0|\n",
            "|  -117.54|   33.82|             28.0|\n",
            "|  -117.24|   33.77|           1290.0|\n",
            "|  -117.35|   33.69|            190.0|\n",
            "|  -117.51|   34.14|            327.0|\n",
            "|   -117.6|   33.45|            435.0|\n",
            "|  -117.61|   33.42|            775.0|\n",
            "|  -117.69|    33.6|390.6666666666667|\n",
            "|  -117.73|   34.07|498.3333333333333|\n",
            "|  -117.82|    33.8|            595.0|\n",
            "|  -117.96|   33.71|            518.0|\n",
            "|   -118.0|   34.15|            648.0|\n",
            "+---------+--------+-----------------+\n",
            "only showing top 20 rows\n",
            "\n"
          ]
        }
      ]
    },
    {
      "cell_type": "markdown",
      "source": [
        "## 2.) Compare time for average: Spark vs Pandas"
      ],
      "metadata": {
        "id": "10w8cE79xuQH"
      }
    },
    {
      "cell_type": "code",
      "metadata": {
        "colab": {
          "base_uri": "https://localhost:8080/"
        },
        "id": "4a17b969",
        "outputId": "18397179-d204-4149-9497-9d0e0c236827"
      },
      "source": [
        "# Convert to Pandas\n",
        "dfpd = df.toPandas()\n",
        "\n",
        "pandasTimeStart = time.time()\n",
        "avgHouseholdPandas = dfpd.groupby(geolocation)[\"households\"].mean()\n",
        "pandasTimeEnd = time.time()\n",
        "pandasTime = pandasTimeEnd - pandasTimeStart\n",
        "\n",
        "print(\"Pandas Avg Household by Geolocation:\")\n",
        "print(avgHouseholdPandas.head())"
      ],
      "execution_count": 155,
      "outputs": [
        {
          "output_type": "stream",
          "name": "stdout",
          "text": [
            "Pandas Avg Household by Geolocation:\n",
            "longitude  latitude\n",
            "-124.35    40.54       270.0\n",
            "-124.30    41.80       478.0\n",
            "           41.84       456.0\n",
            "-124.27    40.69       465.0\n",
            "-124.26    40.58       369.0\n",
            "Name: households, dtype: float64\n"
          ]
        }
      ]
    },
    {
      "cell_type": "code",
      "source": [
        "# compare times\n",
        "print(\"Time taken by spark: \", sparkTime)\n",
        "print(\"Time taken by pandas: \", pandasTime)"
      ],
      "metadata": {
        "colab": {
          "base_uri": "https://localhost:8080/"
        },
        "id": "eZel6McTys1n",
        "outputId": "203ee6ea-5cc0-4e43-c1c9-59087f76a585"
      },
      "execution_count": 156,
      "outputs": [
        {
          "output_type": "stream",
          "name": "stdout",
          "text": [
            "Time taken by spark:  0.022365570068359375\n",
            "Time taken by pandas:  0.006831169128417969\n"
          ]
        }
      ]
    },
    {
      "cell_type": "markdown",
      "source": [
        "Spark takes more time than pandas for grouping and aggregation."
      ],
      "metadata": {
        "id": "f1yKgf1XzVQF"
      }
    },
    {
      "cell_type": "markdown",
      "source": [
        "## 3.) Highest median income by geolocation"
      ],
      "metadata": {
        "id": "Jm9tXRg5zghe"
      }
    },
    {
      "cell_type": "code",
      "source": [
        "sparkTimeStart = time.time()\n",
        "maxMedianIncomeDF = df.groupBy(geolocation).agg({\"median_income\": \"max\"})\n",
        "maxMedianIncomeDF.orderBy('max(median_income)', ascending = False).show(1)\n",
        "sparkTimeEnd = time.time()\n",
        "sparkTime = sparkTimeEnd - sparkTimeStart"
      ],
      "metadata": {
        "colab": {
          "base_uri": "https://localhost:8080/"
        },
        "id": "EG4LzU1PzOsG",
        "outputId": "235731fc-b2b4-4b07-8250-acb26e2c9fb5"
      },
      "execution_count": 157,
      "outputs": [
        {
          "output_type": "stream",
          "name": "stdout",
          "text": [
            "+---------+--------+------------------+\n",
            "|longitude|latitude|max(median_income)|\n",
            "+---------+--------+------------------+\n",
            "|  -118.41|   34.07|           15.0001|\n",
            "+---------+--------+------------------+\n",
            "only showing top 1 row\n",
            "\n"
          ]
        }
      ]
    },
    {
      "cell_type": "markdown",
      "source": [
        "## 4.) Compare time for highest median income: Spark vs Pandas"
      ],
      "metadata": {
        "id": "WEh21gDk2B_q"
      }
    },
    {
      "cell_type": "code",
      "source": [
        "# Convert to Pandas\n",
        "dfpd = df.toPandas()\n",
        "\n",
        "pandasTimeStart = time.time()\n",
        "maxMedianIncomePandas = dfpd.groupby(geolocation)[\"median_income\"].max()\n",
        "maxMedianIncomePandas.sort_values(ascending=False).head(1)\n",
        "pandasTimeEnd = time.time()\n",
        "pandasTime = pandasTimeEnd - pandasTimeStart"
      ],
      "metadata": {
        "id": "1EFOsVzp2TOp"
      },
      "execution_count": 158,
      "outputs": []
    },
    {
      "cell_type": "code",
      "source": [
        "# compare times\n",
        "print(\"Time taken by spark: \", sparkTime)\n",
        "print(\"Time taken by pandas: \", pandasTime)"
      ],
      "metadata": {
        "colab": {
          "base_uri": "https://localhost:8080/"
        },
        "id": "eL4vXW5y2mf4",
        "outputId": "0c03f6ae-e7d2-470d-e80d-479bdd3fad97"
      },
      "execution_count": 159,
      "outputs": [
        {
          "output_type": "stream",
          "name": "stdout",
          "text": [
            "Time taken by spark:  0.49741315841674805\n",
            "Time taken by pandas:  0.005902290344238281\n"
          ]
        }
      ]
    },
    {
      "cell_type": "markdown",
      "source": [
        "Spark takes more time than pandas for grouping, aggregation and sorting."
      ],
      "metadata": {
        "id": "jnNiWyNV3dWq"
      }
    },
    {
      "cell_type": "markdown",
      "source": [
        "## 5.) Average median_house_value for different housing_median_age groups"
      ],
      "metadata": {
        "id": "867PN35O3o_e"
      }
    },
    {
      "cell_type": "code",
      "source": [
        "avgMedianHouseValDF = df.groupBy(\"housing_median_age\").agg({\"median_house_value\": \"avg\"})\n",
        "avgMedianHouseValDF.orderBy(\"housing_median_age\").show()"
      ],
      "metadata": {
        "colab": {
          "base_uri": "https://localhost:8080/"
        },
        "id": "YqsqJy643QZJ",
        "outputId": "eecbf764-20a4-4ba0-81ae-4737f28e7687"
      },
      "execution_count": 160,
      "outputs": [
        {
          "output_type": "stream",
          "name": "stdout",
          "text": [
            "+------------------+-----------------------+\n",
            "|housing_median_age|avg(median_house_value)|\n",
            "+------------------+-----------------------+\n",
            "|               1.0|               190250.0|\n",
            "|               2.0|     229438.83673469388|\n",
            "|               3.0|     239450.04347826086|\n",
            "|               4.0|      230054.1055900621|\n",
            "|               5.0|     211035.70854271358|\n",
            "|               6.0|     206768.24031007753|\n",
            "|               7.0|       188445.059602649|\n",
            "|               8.0|     190805.07303370786|\n",
            "|               9.0|      190306.9941860465|\n",
            "|              10.0|     178416.39380530972|\n",
            "|              11.0|            182480.3125|\n",
            "|              12.0|          181590.640625|\n",
            "|              13.0|     188065.47389558234|\n",
            "|              14.0|     191181.28818443805|\n",
            "|              15.0|     181031.02403846153|\n",
            "|              16.0|     200354.50708661418|\n",
            "|              17.0|     191772.24479166666|\n",
            "|              18.0|     192074.71548117156|\n",
            "|              19.0|     196017.75242718446|\n",
            "|              20.0|     192681.75195822454|\n",
            "+------------------+-----------------------+\n",
            "only showing top 20 rows\n",
            "\n"
          ]
        }
      ]
    },
    {
      "cell_type": "markdown",
      "source": [
        "## 6.) Highest Population by location"
      ],
      "metadata": {
        "id": "NrXGKIih4sRE"
      }
    },
    {
      "cell_type": "code",
      "source": [
        "populationDF = df.groupBy(geolocation).agg({\"population\": \"max\"})\n",
        "populationDF.orderBy('max(population)', ascending = False).show(1)"
      ],
      "metadata": {
        "colab": {
          "base_uri": "https://localhost:8080/"
        },
        "id": "oNl0TT0-3YZ1",
        "outputId": "cd85191e-61c4-4f4f-a837-053118fe3c32"
      },
      "execution_count": 161,
      "outputs": [
        {
          "output_type": "stream",
          "name": "stdout",
          "text": [
            "+---------+--------+---------------+\n",
            "|longitude|latitude|max(population)|\n",
            "+---------+--------+---------------+\n",
            "|  -117.42|   33.35|        35682.0|\n",
            "+---------+--------+---------------+\n",
            "only showing top 1 row\n",
            "\n"
          ]
        }
      ]
    },
    {
      "cell_type": "markdown",
      "source": [
        "## 7.)  `total_bedrooms` to `total_rooms` ratio"
      ],
      "metadata": {
        "id": "w36n3fNc458R"
      }
    },
    {
      "cell_type": "code",
      "metadata": {
        "colab": {
          "base_uri": "https://localhost:8080/"
        },
        "id": "a3673511",
        "outputId": "6aa06458-fe7b-4915-a58a-8b93e94b53f0"
      },
      "source": [
        "# Calculate ratio\n",
        "df_with_ratio = df.withColumn(\"bedroom_room_ratio\", col(\"total_bedrooms\") / col(\"total_rooms\"))\n",
        "df_with_ratio.show()"
      ],
      "execution_count": 162,
      "outputs": [
        {
          "output_type": "stream",
          "name": "stdout",
          "text": [
            "+---------+--------+------------------+-----------+--------------+----------+----------+-------------+------------------+-------------------+\n",
            "|longitude|latitude|housing_median_age|total_rooms|total_bedrooms|population|households|median_income|median_house_value| bedroom_room_ratio|\n",
            "+---------+--------+------------------+-----------+--------------+----------+----------+-------------+------------------+-------------------+\n",
            "|  -114.31|   34.19|              15.0|     5612.0|        1283.0|    1015.0|     472.0|       1.4936|           66900.0|0.22861724875267284|\n",
            "|  -114.47|    34.4|              19.0|     7650.0|        1901.0|    1129.0|     463.0|         1.82|           80100.0|0.24849673202614378|\n",
            "|  -114.56|   33.69|              17.0|      720.0|         174.0|     333.0|     117.0|       1.6509|           85700.0|0.24166666666666667|\n",
            "|  -114.57|   33.64|              14.0|     1501.0|         337.0|     515.0|     226.0|       3.1917|           73400.0|0.22451698867421718|\n",
            "|  -114.57|   33.57|              20.0|     1454.0|         326.0|     624.0|     262.0|        1.925|           65500.0|0.22420907840440166|\n",
            "|  -114.58|   33.63|              29.0|     1387.0|         236.0|     671.0|     239.0|       3.3438|           74000.0|0.17015140591204037|\n",
            "|  -114.58|   33.61|              25.0|     2907.0|         680.0|    1841.0|     633.0|       2.6768|           82400.0|0.23391812865497075|\n",
            "|  -114.59|   34.83|              41.0|      812.0|         168.0|     375.0|     158.0|       1.7083|           48500.0|0.20689655172413793|\n",
            "|  -114.59|   33.61|              34.0|     4789.0|        1175.0|    3134.0|    1056.0|       2.1782|           58400.0|0.24535393610357067|\n",
            "|   -114.6|   34.83|              46.0|     1497.0|         309.0|     787.0|     271.0|       2.1908|           48100.0|0.20641282565130262|\n",
            "|   -114.6|   33.62|              16.0|     3741.0|         801.0|    2434.0|     824.0|       2.6797|           86500.0| 0.2141138732959102|\n",
            "|   -114.6|    33.6|              21.0|     1988.0|         483.0|    1182.0|     437.0|        1.625|           62000.0|0.24295774647887325|\n",
            "|  -114.61|   34.84|              48.0|     1291.0|         248.0|     580.0|     211.0|       2.1571|           48600.0|0.19209914794732766|\n",
            "|  -114.61|   34.83|              31.0|     2478.0|         464.0|    1346.0|     479.0|        3.212|           70400.0|0.18724778046811946|\n",
            "|  -114.63|   32.76|              15.0|     1448.0|         378.0|     949.0|     300.0|       0.8585|           45000.0| 0.2610497237569061|\n",
            "|  -114.65|   34.89|              17.0|     2556.0|         587.0|    1005.0|     401.0|       1.6991|           69100.0|0.22965571205007826|\n",
            "|  -114.65|    33.6|              28.0|     1678.0|         322.0|     666.0|     256.0|       2.9653|           94900.0|0.19189511323003575|\n",
            "|  -114.65|   32.79|              21.0|       44.0|          33.0|      64.0|      27.0|       0.8571|           25000.0|               0.75|\n",
            "|  -114.66|   32.74|              17.0|     1388.0|         386.0|     775.0|     320.0|       1.2049|           44000.0| 0.2780979827089337|\n",
            "|  -114.67|   33.92|              17.0|       97.0|          24.0|      29.0|      15.0|       1.2656|           27500.0|0.24742268041237114|\n",
            "+---------+--------+------------------+-----------+--------------+----------+----------+-------------+------------------+-------------------+\n",
            "only showing top 20 rows\n",
            "\n"
          ]
        }
      ]
    },
    {
      "cell_type": "code",
      "source": [
        "# Calculate avg\n",
        "average_ratio = df_with_ratio.agg(avg(\"bedroom_room_ratio\")).collect()[0][0]\n",
        "print(f\"The average ratio of total_bedrooms to total_rooms is: {average_ratio}\")"
      ],
      "metadata": {
        "colab": {
          "base_uri": "https://localhost:8080/"
        },
        "id": "Pn5dUwqP57zG",
        "outputId": "917de12e-e7a9-4e11-aa02-00a8a02b69af"
      },
      "execution_count": 163,
      "outputs": [
        {
          "output_type": "stream",
          "name": "stdout",
          "text": [
            "The average ratio of total_bedrooms to total_rooms is: 0.2127599882103483\n"
          ]
        }
      ]
    },
    {
      "cell_type": "markdown",
      "source": [
        "## 8.) Correlation between `median_income` and `median_house_value`"
      ],
      "metadata": {
        "id": "09hBPTxU6bOd"
      }
    },
    {
      "cell_type": "code",
      "source": [
        "correlation = df.select(corr(\"median_income\", \"median_house_value\")).collect()[0][0]\n",
        "\n",
        "print(f\"The correlation between median_income and median_house_value is: {correlation}\")"
      ],
      "metadata": {
        "colab": {
          "base_uri": "https://localhost:8080/"
        },
        "id": "oCfDr5tf6YOG",
        "outputId": "017d98a1-74a6-49a9-8799-6f5237026e35"
      },
      "execution_count": 164,
      "outputs": [
        {
          "output_type": "stream",
          "name": "stdout",
          "text": [
            "The correlation between median_income and median_house_value is: 0.6918706037806676\n"
          ]
        }
      ]
    }
  ],
  "metadata": {
    "colab": {
      "provenance": [],
      "toc_visible": true
    },
    "kernelspec": {
      "display_name": "Python 3",
      "language": "python",
      "name": "python3"
    },
    "language_info": {
      "codemirror_mode": {
        "name": "ipython",
        "version": 3
      },
      "file_extension": ".py",
      "mimetype": "text/x-python",
      "name": "python",
      "nbconvert_exporter": "python",
      "pygments_lexer": "ipython3",
      "version": "3.7.7"
    }
  },
  "nbformat": 4,
  "nbformat_minor": 0
}