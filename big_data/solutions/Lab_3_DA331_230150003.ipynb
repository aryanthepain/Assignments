{
  "nbformat": 4,
  "nbformat_minor": 0,
  "metadata": {
    "colab": {
      "provenance": []
    },
    "kernelspec": {
      "name": "python3",
      "display_name": "Python 3"
    },
    "language_info": {
      "name": "python"
    }
  },
  "cells": [
    {
      "cell_type": "markdown",
      "source": [
        "# Lab Assignment 3\n",
        "\n",
        "- Name - Aryan Gupta\n",
        "- Roll No.- 230150003\n",
        "- Date - 13 Aug, 2025\n",
        "- Course - DA331 Big Data Analytics: Tools & Techniques"
      ],
      "metadata": {
        "id": "agqJiuszfxeG"
      }
    },
    {
      "cell_type": "markdown",
      "source": [
        "## Import Library"
      ],
      "metadata": {
        "id": "NPLoH6-af4nq"
      }
    },
    {
      "cell_type": "code",
      "execution_count": 1,
      "metadata": {
        "id": "hFY9AQl-fHLt"
      },
      "outputs": [],
      "source": [
        "# !pip install pyspark\n",
        "# !pip install opendatasets"
      ]
    },
    {
      "cell_type": "code",
      "source": [
        "# import pyspark.sql classes and functions\n",
        "import pyspark\n",
        "from pyspark.sql import SparkSession\n",
        "from pyspark.sql.types import StructType, StructField, StringType, IntegerType\n",
        "from pyspark.sql.types import ArrayType, DoubleType, BooleanType, TimestampType\n",
        "from pyspark.sql.functions import col, array_contains, isnan, when, count\n",
        "from pyspark.sql.functions import lit, concat_ws, concat, collect_list, udf\n",
        "from pyspark.sql.functions import countDistinct\n",
        "from pyspark.sql.functions import max, corr, avg, sum, dayofweek\n",
        "\n",
        "import opendatasets as od\n",
        "import numpy as np\n",
        "\n",
        "spark = SparkSession.builder.appName(\"answers\").getOrCreate()"
      ],
      "metadata": {
        "id": "Gdnv-ZCnf641"
      },
      "execution_count": 2,
      "outputs": []
    },
    {
      "cell_type": "markdown",
      "source": [
        "## Load Data"
      ],
      "metadata": {
        "id": "C9tMlFNBgIOu"
      }
    },
    {
      "cell_type": "code",
      "source": [
        "# Get where the session is built\n",
        "!pwd"
      ],
      "metadata": {
        "colab": {
          "base_uri": "https://localhost:8080/"
        },
        "id": "hW43zISFgCgk",
        "outputId": "88237d0f-313c-4a89-d077-9ca2204f3f53"
      },
      "execution_count": 3,
      "outputs": [
        {
          "output_type": "stream",
          "name": "stdout",
          "text": [
            "/content\n"
          ]
        }
      ]
    },
    {
      "cell_type": "code",
      "source": [
        "# od.download(\"https://www.kaggle.com/datasets/elemento/nyc-yellow-taxi-trip-data\")"
      ],
      "metadata": {
        "id": "vEhncxdWgLah"
      },
      "execution_count": 4,
      "outputs": []
    },
    {
      "cell_type": "markdown",
      "source": [
        "As the data is very big, let us work with the subset of the data for faster processing."
      ],
      "metadata": {
        "id": "qNE9G2TAilCG"
      }
    },
    {
      "cell_type": "code",
      "source": [
        "path = './nyc-yellow-taxi-trip-data/yellow_tripdata_2016-03.csv'"
      ],
      "metadata": {
        "id": "GYMZp9ecgzpV"
      },
      "execution_count": 5,
      "outputs": []
    },
    {
      "cell_type": "markdown",
      "source": [
        "### Get the feel of the data"
      ],
      "metadata": {
        "id": "D7BH3DRsi9Bd"
      }
    },
    {
      "cell_type": "code",
      "source": [
        "df = spark.read.option(\"header\",'True').option('delimiter', ',').csv(path)\n",
        "print(df.count())\n",
        "print(len(df.columns))\n",
        "print(df.printSchema())\n",
        "print(df.show(5))"
      ],
      "metadata": {
        "colab": {
          "base_uri": "https://localhost:8080/"
        },
        "id": "Vp7GikiNi2V4",
        "outputId": "33e11458-4860-4927-f270-3d5cac5a3c99"
      },
      "execution_count": 6,
      "outputs": [
        {
          "output_type": "stream",
          "name": "stdout",
          "text": [
            "12210952\n",
            "19\n",
            "root\n",
            " |-- VendorID: string (nullable = true)\n",
            " |-- tpep_pickup_datetime: string (nullable = true)\n",
            " |-- tpep_dropoff_datetime: string (nullable = true)\n",
            " |-- passenger_count: string (nullable = true)\n",
            " |-- trip_distance: string (nullable = true)\n",
            " |-- pickup_longitude: string (nullable = true)\n",
            " |-- pickup_latitude: string (nullable = true)\n",
            " |-- RatecodeID: string (nullable = true)\n",
            " |-- store_and_fwd_flag: string (nullable = true)\n",
            " |-- dropoff_longitude: string (nullable = true)\n",
            " |-- dropoff_latitude: string (nullable = true)\n",
            " |-- payment_type: string (nullable = true)\n",
            " |-- fare_amount: string (nullable = true)\n",
            " |-- extra: string (nullable = true)\n",
            " |-- mta_tax: string (nullable = true)\n",
            " |-- tip_amount: string (nullable = true)\n",
            " |-- tolls_amount: string (nullable = true)\n",
            " |-- improvement_surcharge: string (nullable = true)\n",
            " |-- total_amount: string (nullable = true)\n",
            "\n",
            "None\n",
            "+--------+--------------------+---------------------+---------------+-------------+-------------------+------------------+----------+------------------+-------------------+------------------+------------+-----------+-----+-------+----------+------------+---------------------+------------+\n",
            "|VendorID|tpep_pickup_datetime|tpep_dropoff_datetime|passenger_count|trip_distance|   pickup_longitude|   pickup_latitude|RatecodeID|store_and_fwd_flag|  dropoff_longitude|  dropoff_latitude|payment_type|fare_amount|extra|mta_tax|tip_amount|tolls_amount|improvement_surcharge|total_amount|\n",
            "+--------+--------------------+---------------------+---------------+-------------+-------------------+------------------+----------+------------------+-------------------+------------------+------------+-----------+-----+-------+----------+------------+---------------------+------------+\n",
            "|       1| 2016-03-01 00:00:00|  2016-03-01 00:07:55|              1|         2.50| -73.97674560546875|40.765151977539062|         1|                 N|-74.004264831542969|40.746128082275391|           1|          9|  0.5|    0.5|      2.05|           0|                  0.3|       12.35|\n",
            "|       1| 2016-03-01 00:00:00|  2016-03-01 00:11:06|              1|         2.90|-73.983482360839844|40.767925262451172|         1|                 N|-74.005943298339844|40.733165740966797|           1|         11|  0.5|    0.5|      3.05|           0|                  0.3|       15.35|\n",
            "|       2| 2016-03-01 00:00:00|  2016-03-01 00:31:06|              2|        19.98|-73.782020568847656|40.644809722900391|         1|                 N|-73.974540710449219|40.675769805908203|           1|       54.5|  0.5|    0.5|         8|           0|                  0.3|        63.8|\n",
            "|       2| 2016-03-01 00:00:00|  2016-03-01 00:00:00|              3|        10.78|-73.863418579101562|40.769813537597656|         1|                 N|-73.969650268554688|40.757766723632812|           1|       31.5|    0|    0.5|      3.78|        5.54|                  0.3|       41.62|\n",
            "|       2| 2016-03-01 00:00:00|  2016-03-01 00:00:00|              5|        30.43| -73.97174072265625|40.792182922363281|         3|                 N|-74.177169799804688|40.695053100585937|           1|         98|    0|      0|         0|        15.5|                  0.3|       113.8|\n",
            "+--------+--------------------+---------------------+---------------+-------------+-------------------+------------------+----------+------------------+-------------------+------------------+------------+-----------+-----+-------+----------+------------+---------------------+------------+\n",
            "only showing top 5 rows\n",
            "\n",
            "None\n"
          ]
        }
      ]
    },
    {
      "cell_type": "markdown",
      "source": [
        "## Working with sampled data\n",
        " This is done for faster processing. We will use 1000 rows at random."
      ],
      "metadata": {
        "id": "IVld_IQZ2hTY"
      }
    },
    {
      "cell_type": "code",
      "metadata": {
        "colab": {
          "base_uri": "https://localhost:8080/"
        },
        "id": "3fe808be",
        "outputId": "7d0b794f-aa12-4cb9-ac93-901552e0f303"
      },
      "source": [
        "# Define the schema with correct data types\n",
        "schema = StructType([\n",
        "    StructField(\"VendorID\", IntegerType(), True),\n",
        "    StructField(\"tpep_pickup_datetime\", TimestampType(), True),\n",
        "    StructField(\"tpep_dropoff_datetime\", TimestampType(), True),\n",
        "    StructField(\"passenger_count\", IntegerType(), True),\n",
        "    StructField(\"trip_distance\", DoubleType(), True),\n",
        "    StructField(\"pickup_longitude\", DoubleType(), True),\n",
        "    StructField(\"pickup_latitude\", DoubleType(), True),\n",
        "    StructField(\"RatecodeID\", IntegerType(), True),\n",
        "    StructField(\"store_and_fwd_flag\", StringType(), True),\n",
        "    StructField(\"dropoff_longitude\", DoubleType(), True),\n",
        "    StructField(\"dropoff_latitude\", DoubleType(), True),\n",
        "    StructField(\"payment_type\", IntegerType(), True),\n",
        "    StructField(\"fare_amount\", DoubleType(), True),\n",
        "    StructField(\"extra\", DoubleType(), True),\n",
        "    StructField(\"mta_tax\", DoubleType(), True),\n",
        "    StructField(\"tip_amount\", DoubleType(), True),\n",
        "    StructField(\"tolls_amount\", DoubleType(), True),\n",
        "    StructField(\"improvement_surcharge\", DoubleType(), True),\n",
        "    StructField(\"total_amount\", DoubleType(), True)\n",
        "])\n",
        "\n",
        "# Read the CSV with the defined schema and sample the data\n",
        "df_sampled = spark.read.option(\"header\",'True').option('delimiter', ',').schema(schema).csv(path) \\\n",
        "            .sample(withReplacement=False, fraction=1000 / df.count(), seed=69)\n",
        "\n",
        "print(df_sampled.count())\n",
        "df_sampled.printSchema()\n",
        "df_sampled.show(5)"
      ],
      "execution_count": 7,
      "outputs": [
        {
          "output_type": "stream",
          "name": "stdout",
          "text": [
            "989\n",
            "root\n",
            " |-- VendorID: integer (nullable = true)\n",
            " |-- tpep_pickup_datetime: timestamp (nullable = true)\n",
            " |-- tpep_dropoff_datetime: timestamp (nullable = true)\n",
            " |-- passenger_count: integer (nullable = true)\n",
            " |-- trip_distance: double (nullable = true)\n",
            " |-- pickup_longitude: double (nullable = true)\n",
            " |-- pickup_latitude: double (nullable = true)\n",
            " |-- RatecodeID: integer (nullable = true)\n",
            " |-- store_and_fwd_flag: string (nullable = true)\n",
            " |-- dropoff_longitude: double (nullable = true)\n",
            " |-- dropoff_latitude: double (nullable = true)\n",
            " |-- payment_type: integer (nullable = true)\n",
            " |-- fare_amount: double (nullable = true)\n",
            " |-- extra: double (nullable = true)\n",
            " |-- mta_tax: double (nullable = true)\n",
            " |-- tip_amount: double (nullable = true)\n",
            " |-- tolls_amount: double (nullable = true)\n",
            " |-- improvement_surcharge: double (nullable = true)\n",
            " |-- total_amount: double (nullable = true)\n",
            "\n",
            "+--------+--------------------+---------------------+---------------+-------------+------------------+-----------------+----------+------------------+------------------+------------------+------------+-----------+-----+-------+----------+------------+---------------------+------------+\n",
            "|VendorID|tpep_pickup_datetime|tpep_dropoff_datetime|passenger_count|trip_distance|  pickup_longitude|  pickup_latitude|RatecodeID|store_and_fwd_flag| dropoff_longitude|  dropoff_latitude|payment_type|fare_amount|extra|mta_tax|tip_amount|tolls_amount|improvement_surcharge|total_amount|\n",
            "+--------+--------------------+---------------------+---------------+-------------+------------------+-----------------+----------+------------------+------------------+------------------+------------+-----------+-----+-------+----------+------------+---------------------+------------+\n",
            "|       2| 2016-03-10 07:10:48|  2016-03-10 07:14:48|              6|         0.95|-73.99038696289062|40.75088882446289|         1|                 N|-74.00321197509766| 40.74903106689453|           2|        5.5|  0.0|    0.5|       0.0|         0.0|                  0.3|         6.3|\n",
            "|       2| 2016-03-10 07:41:51|  2016-03-10 07:50:54|              1|         2.15| -73.9918212890625|40.74751281738281|         1|                 N|-74.00770568847656|40.724735260009766|           2|        9.0|  0.0|    0.5|       0.0|         0.0|                  0.3|         9.8|\n",
            "|       2| 2016-03-10 08:16:36|  2016-03-10 08:56:34|              1|         7.17|-73.95967864990234| 40.7825813293457|         1|                 N|-74.01361083984375|40.715110778808594|           1|       29.5|  0.0|    0.5|       3.5|         0.0|                  0.3|        33.8|\n",
            "|       2| 2016-03-10 08:41:30|  2016-03-10 08:49:03|              6|         1.51|-73.98839569091797|40.73160171508789|         1|                 N|-73.97484588623047|  40.7501335144043|           1|        7.5|  0.0|    0.5|      1.66|         0.0|                  0.3|        9.96|\n",
            "|       2| 2016-03-10 10:13:57|  2016-03-10 10:21:04|              1|         1.43|-73.98780059814453| 40.7494010925293|         1|                 N|-74.00597381591797| 40.75029373168945|           2|        7.0|  0.0|    0.5|       0.0|         0.0|                  0.3|         7.8|\n",
            "+--------+--------------------+---------------------+---------------+-------------+------------------+-----------------+----------+------------------+------------------+------------------+------------+-----------+-----+-------+----------+------------+---------------------+------------+\n",
            "only showing top 5 rows\n",
            "\n"
          ]
        }
      ]
    },
    {
      "cell_type": "code",
      "source": [
        "# put store_and_fwd_flag column as boolean type\n",
        "df_sampled = df_sampled.withColumn(\n",
        "    \"store_and_fwd_flag\",\n",
        "    when(col(\"store_and_fwd_flag\") == \"Y\", True).otherwise(False).cast(BooleanType())\n",
        ")\n",
        "\n",
        "df_sampled = df_sampled.withColumn(\"store_and_fwd_flag\", col(\"store_and_fwd_flag\").cast(StringType()))\n",
        "\n",
        "df_sampled.printSchema()\n",
        "df_sampled.select(\"store_and_fwd_flag\").show(5)"
      ],
      "metadata": {
        "colab": {
          "base_uri": "https://localhost:8080/"
        },
        "id": "wBwZS7wllypQ",
        "outputId": "6b47e5b8-5b8f-4c15-9d60-95d414db724f"
      },
      "execution_count": 8,
      "outputs": [
        {
          "output_type": "stream",
          "name": "stdout",
          "text": [
            "root\n",
            " |-- VendorID: integer (nullable = true)\n",
            " |-- tpep_pickup_datetime: timestamp (nullable = true)\n",
            " |-- tpep_dropoff_datetime: timestamp (nullable = true)\n",
            " |-- passenger_count: integer (nullable = true)\n",
            " |-- trip_distance: double (nullable = true)\n",
            " |-- pickup_longitude: double (nullable = true)\n",
            " |-- pickup_latitude: double (nullable = true)\n",
            " |-- RatecodeID: integer (nullable = true)\n",
            " |-- store_and_fwd_flag: string (nullable = false)\n",
            " |-- dropoff_longitude: double (nullable = true)\n",
            " |-- dropoff_latitude: double (nullable = true)\n",
            " |-- payment_type: integer (nullable = true)\n",
            " |-- fare_amount: double (nullable = true)\n",
            " |-- extra: double (nullable = true)\n",
            " |-- mta_tax: double (nullable = true)\n",
            " |-- tip_amount: double (nullable = true)\n",
            " |-- tolls_amount: double (nullable = true)\n",
            " |-- improvement_surcharge: double (nullable = true)\n",
            " |-- total_amount: double (nullable = true)\n",
            "\n",
            "+------------------+\n",
            "|store_and_fwd_flag|\n",
            "+------------------+\n",
            "|             false|\n",
            "|             false|\n",
            "|             false|\n",
            "|             false|\n",
            "|             false|\n",
            "+------------------+\n",
            "only showing top 5 rows\n",
            "\n"
          ]
        }
      ]
    },
    {
      "cell_type": "markdown",
      "source": [
        "### Q1 - Which drivers had the most number of passengers during weekends?"
      ],
      "metadata": {
        "id": "6j_4bHEbo6-3"
      }
    },
    {
      "cell_type": "code",
      "metadata": {
        "colab": {
          "base_uri": "https://localhost:8080/"
        },
        "id": "ac36504b",
        "outputId": "ead70913-6678-4016-8b79-61acae0f3468"
      },
      "source": [
        "df_weekends = df_sampled.filter(dayofweek(col(\"tpep_pickup_datetime\")).isin([1, 7]))\n",
        "# 1 - Sunday, 7 - Saturday\n",
        "print(df_weekends.count())"
      ],
      "execution_count": 9,
      "outputs": [
        {
          "output_type": "stream",
          "name": "stdout",
          "text": [
            "270\n"
          ]
        }
      ]
    },
    {
      "cell_type": "code",
      "metadata": {
        "colab": {
          "base_uri": "https://localhost:8080/"
        },
        "id": "2539e8c3",
        "outputId": "10a0a63a-48da-4495-a450-d4110d54ed14"
      },
      "source": [
        "df_passenger_counts = df_weekends.groupBy(\"VendorID\").agg(sum(\"passenger_count\").alias(\"total_weekend_passengers\"))\n",
        "df_passenger_counts.show()"
      ],
      "execution_count": 10,
      "outputs": [
        {
          "output_type": "stream",
          "name": "stdout",
          "text": [
            "+--------+------------------------+\n",
            "|VendorID|total_weekend_passengers|\n",
            "+--------+------------------------+\n",
            "|       1|                     160|\n",
            "|       2|                     303|\n",
            "+--------+------------------------+\n",
            "\n"
          ]
        }
      ]
    },
    {
      "cell_type": "code",
      "metadata": {
        "colab": {
          "base_uri": "https://localhost:8080/"
        },
        "id": "77bd90ff",
        "outputId": "6b553d91-6bfa-4173-ce73-4f1087d7f579"
      },
      "source": [
        "df_ordered = df_passenger_counts.orderBy(col(\"total_weekend_passengers\").desc())\n",
        "print('Drivers with the most number of passengers during weekends.')\n",
        "print(df_ordered.show(1))"
      ],
      "execution_count": 11,
      "outputs": [
        {
          "output_type": "stream",
          "name": "stdout",
          "text": [
            "Drivers with the most number of passengers during weekends.\n",
            "+--------+------------------------+\n",
            "|VendorID|total_weekend_passengers|\n",
            "+--------+------------------------+\n",
            "|       2|                     303|\n",
            "+--------+------------------------+\n",
            "only showing top 1 row\n",
            "\n",
            "None\n"
          ]
        }
      ]
    },
    {
      "cell_type": "markdown",
      "source": [
        "### Q2 - Which drivers had the most tip to fare ratio during weekdays?"
      ],
      "metadata": {
        "id": "5C2uvcndqHfI"
      }
    },
    {
      "cell_type": "code",
      "source": [
        "# not weekend\n",
        "df_weekdays_full = df_sampled.filter(~dayofweek(col(\"tpep_pickup_datetime\")).isin([1, 7]))\n",
        "#select relevant columns\n",
        "df_weekdays = df_weekdays_full.select(\"VendorID\", \"tip_amount\", \"fare_amount\")\n",
        "\n",
        "print(df_weekdays.count())"
      ],
      "metadata": {
        "colab": {
          "base_uri": "https://localhost:8080/"
        },
        "id": "xHB9izOpqGTm",
        "outputId": "0cbb008c-efbb-4e6f-d6f9-0477b0e098bd"
      },
      "execution_count": 12,
      "outputs": [
        {
          "output_type": "stream",
          "name": "stdout",
          "text": [
            "719\n"
          ]
        }
      ]
    },
    {
      "cell_type": "code",
      "source": [
        "# tip-to-fare ratio for each trip\n",
        "df_weekdays_with_ratio = df_weekdays.withColumn(\n",
        "    \"tip_fare_ratio\",\n",
        "    when(col(\"fare_amount\") > 0, col(\"tip_amount\") / col(\"fare_amount\")).otherwise(0.0)\n",
        ") # when used to avoid division by 0\n",
        "\n",
        "# Group by VendorID and average\n",
        "df_avg_tip_ratio_by_vendor = df_weekdays_with_ratio.groupBy(\"VendorID\") \\\n",
        "            .agg(avg(\"tip_fare_ratio\").alias(\"average_tip_fare_ratio\"))\n",
        "\n",
        "# get best drivers\n",
        "df_avg_tip_ratio_ordered = df_avg_tip_ratio_by_vendor.orderBy(col(\"average_tip_fare_ratio\").desc())\n",
        "\n",
        "print(\"Driver with most tip to fare ratio during weekdays:-\")\n",
        "print(df_avg_tip_ratio_ordered.show(1))"
      ],
      "metadata": {
        "colab": {
          "base_uri": "https://localhost:8080/"
        },
        "id": "J8DDhA1arPY1",
        "outputId": "7e8c559d-759b-4c6d-a6d7-4bc0e1fd4014"
      },
      "execution_count": 13,
      "outputs": [
        {
          "output_type": "stream",
          "name": "stdout",
          "text": [
            "Driver with most tip to fare ratio during weekdays:-\n",
            "+--------+----------------------+\n",
            "|VendorID|average_tip_fare_ratio|\n",
            "+--------+----------------------+\n",
            "|       2|   0.14448068088927166|\n",
            "+--------+----------------------+\n",
            "only showing top 1 row\n",
            "\n",
            "None\n"
          ]
        }
      ]
    },
    {
      "cell_type": "markdown",
      "source": [
        "### Q3 - Which drivers avoided tolls the most?"
      ],
      "metadata": {
        "id": "Nr5PWqAPtPp4"
      }
    },
    {
      "cell_type": "code",
      "source": [
        "# Mark each trip as 1(toll given) or 0(not given)\n",
        "toll_counts_by_vendor = df_sampled.groupBy('VendorID') \\\n",
        ".agg(\n",
        "    sum(when(col(\"tolls_amount\") > 0, 1).otherwise(0)).alias(\"trips_with_tolls\")\n",
        ")\n",
        "\n",
        "# Get best drivers\n",
        "vendors_avoiding_tolls = toll_counts_by_vendor.orderBy(col(\"trips_with_tolls\").asc())\n",
        "vendors_avoiding_tolls.show(1)"
      ],
      "metadata": {
        "colab": {
          "base_uri": "https://localhost:8080/"
        },
        "id": "VdyAR-c_txtH",
        "outputId": "79200123-a2b7-4535-cc50-0bf0f575310f"
      },
      "execution_count": 14,
      "outputs": [
        {
          "output_type": "stream",
          "name": "stdout",
          "text": [
            "+--------+----------------+\n",
            "|VendorID|trips_with_tolls|\n",
            "+--------+----------------+\n",
            "|       1|              20|\n",
            "+--------+----------------+\n",
            "only showing top 1 row\n",
            "\n"
          ]
        }
      ]
    },
    {
      "cell_type": "markdown",
      "source": [
        "### Q4 - Which rate code had the most trips?"
      ],
      "metadata": {
        "id": "ppg-9_QAug5g"
      }
    },
    {
      "cell_type": "code",
      "source": [
        "# Group by RatecodeID and count no. of trips\n",
        "rate_code_counts = df_sampled.groupBy(\"RatecodeID\").agg(\n",
        "    count(\"*\").alias(\"total_trips\")\n",
        ")\n",
        "\n",
        "# get best rate code\n",
        "most_frequent_rate_code = rate_code_counts.orderBy(col(\"total_trips\").desc())\n",
        "print('Rate code with most trips:-')\n",
        "most_frequent_rate_code.show(1)\n",
        "best_rate_code = most_frequent_rate_code.first()[\"RatecodeID\"] # for next question"
      ],
      "metadata": {
        "colab": {
          "base_uri": "https://localhost:8080/"
        },
        "id": "wgLH8GcMuZrt",
        "outputId": "5808ff12-f636-447f-cd5d-6b34025a9cdf"
      },
      "execution_count": 15,
      "outputs": [
        {
          "output_type": "stream",
          "name": "stdout",
          "text": [
            "Rate code with most trips:-\n",
            "+----------+-----------+\n",
            "|RatecodeID|total_trips|\n",
            "+----------+-----------+\n",
            "|         1|        965|\n",
            "+----------+-----------+\n",
            "only showing top 1 row\n",
            "\n"
          ]
        }
      ]
    },
    {
      "cell_type": "markdown",
      "source": [
        "### Q5 - Which drivers rode the most best rate code?"
      ],
      "metadata": {
        "id": "ZExSq1rEvpQV"
      }
    },
    {
      "cell_type": "code",
      "source": [
        "# Filter best trips\n",
        "best_rate_code_trips = df_sampled.filter(col(\"RatecodeID\") == best_rate_code)\n",
        "\n",
        "# Group by VendorID and count no. of trips\n",
        "trips_at_best_rate_by_vendor = best_rate_code_trips.groupBy('VendorID').agg(\n",
        "    count(\"*\").alias(\"trips_at_best_rate\")\n",
        ")\n",
        "\n",
        "# get best drivers\n",
        "drivers_with_most_best_rate_trips = trips_at_best_rate_by_vendor.orderBy(col(\"trips_at_best_rate\").desc())\n",
        "drivers_with_most_best_rate_trips.show(1)"
      ],
      "metadata": {
        "colab": {
          "base_uri": "https://localhost:8080/"
        },
        "id": "yRI-qxKHu-jY",
        "outputId": "cd46cdbf-0fc5-4dcb-ffc4-0e116d02d3cd"
      },
      "execution_count": 16,
      "outputs": [
        {
          "output_type": "stream",
          "name": "stdout",
          "text": [
            "+--------+------------------+\n",
            "|VendorID|trips_at_best_rate|\n",
            "+--------+------------------+\n",
            "|       2|               528|\n",
            "+--------+------------------+\n",
            "only showing top 1 row\n",
            "\n"
          ]
        }
      ]
    },
    {
      "cell_type": "markdown",
      "source": [
        "## Working with full data"
      ],
      "metadata": {
        "id": "Y45H9Xk2wuzG"
      }
    },
    {
      "cell_type": "code",
      "source": [
        "file_paths = [\n",
        "    \"/content/nyc-yellow-taxi-trip-data/yellow_tripdata_2015-01.csv\",\n",
        "    \"/content/nyc-yellow-taxi-trip-data/yellow_tripdata_2016-01.csv\",\n",
        "    \"/content/nyc-yellow-taxi-trip-data/yellow_tripdata_2016-02.csv\",\n",
        "    \"/content/nyc-yellow-taxi-trip-data/yellow_tripdata_2016-03.csv\"\n",
        "]\n",
        "\n",
        "df_full = spark.read.option(\"header\",'True').option('delimiter', ',').schema(schema).csv(file_paths[0])\n",
        "\n",
        "# Read and concatenate the rest\n",
        "for path in file_paths[1:]:\n",
        "    temp_df = spark.read.option(\"header\",'True').option('delimiter', ',').schema(schema).csv(path)\n",
        "    df_full = df_full.unionByName(temp_df)"
      ],
      "metadata": {
        "id": "F0DQyl8nv8eD"
      },
      "execution_count": 17,
      "outputs": []
    },
    {
      "cell_type": "code",
      "source": [
        "# Show schema and first few rows of the full DataFrame\n",
        "df_full.printSchema()\n",
        "df_full.show(5)"
      ],
      "metadata": {
        "colab": {
          "base_uri": "https://localhost:8080/"
        },
        "id": "IASxdK0kxVIj",
        "outputId": "c9c7fdc5-79c1-411a-e2a9-ac464e2f8c39"
      },
      "execution_count": 18,
      "outputs": [
        {
          "output_type": "stream",
          "name": "stdout",
          "text": [
            "root\n",
            " |-- VendorID: integer (nullable = true)\n",
            " |-- tpep_pickup_datetime: timestamp (nullable = true)\n",
            " |-- tpep_dropoff_datetime: timestamp (nullable = true)\n",
            " |-- passenger_count: integer (nullable = true)\n",
            " |-- trip_distance: double (nullable = true)\n",
            " |-- pickup_longitude: double (nullable = true)\n",
            " |-- pickup_latitude: double (nullable = true)\n",
            " |-- RatecodeID: integer (nullable = true)\n",
            " |-- store_and_fwd_flag: string (nullable = true)\n",
            " |-- dropoff_longitude: double (nullable = true)\n",
            " |-- dropoff_latitude: double (nullable = true)\n",
            " |-- payment_type: integer (nullable = true)\n",
            " |-- fare_amount: double (nullable = true)\n",
            " |-- extra: double (nullable = true)\n",
            " |-- mta_tax: double (nullable = true)\n",
            " |-- tip_amount: double (nullable = true)\n",
            " |-- tolls_amount: double (nullable = true)\n",
            " |-- improvement_surcharge: double (nullable = true)\n",
            " |-- total_amount: double (nullable = true)\n",
            "\n",
            "+--------+--------------------+---------------------+---------------+-------------+------------------+------------------+----------+------------------+------------------+------------------+------------+-----------+-----+-------+----------+------------+---------------------+------------+\n",
            "|VendorID|tpep_pickup_datetime|tpep_dropoff_datetime|passenger_count|trip_distance|  pickup_longitude|   pickup_latitude|RatecodeID|store_and_fwd_flag| dropoff_longitude|  dropoff_latitude|payment_type|fare_amount|extra|mta_tax|tip_amount|tolls_amount|improvement_surcharge|total_amount|\n",
            "+--------+--------------------+---------------------+---------------+-------------+------------------+------------------+----------+------------------+------------------+------------------+------------+-----------+-----+-------+----------+------------+---------------------+------------+\n",
            "|       2| 2015-01-15 19:05:39|  2015-01-15 19:23:42|              1|         1.59|  -73.993896484375|  40.7501106262207|         1|                 N|-73.97478485107422| 40.75061798095703|           1|       12.0|  1.0|    0.5|      3.25|         0.0|                  0.3|       17.05|\n",
            "|       1| 2015-01-10 20:33:38|  2015-01-10 20:53:28|              1|          3.3|-74.00164794921875|  40.7242431640625|         1|                 N|-73.99441528320312| 40.75910949707031|           1|       14.5|  0.5|    0.5|       2.0|         0.0|                  0.3|        17.8|\n",
            "|       1| 2015-01-10 20:33:38|  2015-01-10 20:43:41|              1|          1.8|-73.96334075927734| 40.80278778076172|         1|                 N|-73.95182037353516| 40.82441329956055|           2|        9.5|  0.5|    0.5|       0.0|         0.0|                  0.3|        10.8|\n",
            "|       1| 2015-01-10 20:33:39|  2015-01-10 20:35:31|              1|          0.5|-74.00908660888672| 40.71381759643555|         1|                 N|-74.00432586669922| 40.71998596191406|           2|        3.5|  0.5|    0.5|       0.0|         0.0|                  0.3|         4.8|\n",
            "|       1| 2015-01-10 20:33:39|  2015-01-10 20:52:58|              1|          3.0|-73.97117614746094|40.762428283691406|         1|                 N|-74.00418090820312|40.742652893066406|           2|       15.0|  0.5|    0.5|       0.0|         0.0|                  0.3|        16.3|\n",
            "+--------+--------------------+---------------------+---------------+-------------+------------------+------------------+----------+------------------+------------------+------------------+------------+-----------+-----+-------+----------+------------+---------------------+------------+\n",
            "only showing top 5 rows\n",
            "\n"
          ]
        }
      ]
    },
    {
      "cell_type": "markdown",
      "metadata": {
        "id": "95974562"
      },
      "source": [
        "### Answer q1 - weekend passengers"
      ]
    },
    {
      "cell_type": "code",
      "metadata": {
        "colab": {
          "base_uri": "https://localhost:8080/"
        },
        "id": "e9c94201",
        "outputId": "18b3a31f-87a7-42ad-9605-e1f4aa03ab7b"
      },
      "source": [
        "df_weekends_full = df_full.filter(dayofweek(col(\"tpep_pickup_datetime\")).isin([1, 7]))\n",
        "df_passenger_counts_full = df_weekends_full.groupBy(\"VendorID\").agg(sum(\"passenger_count\").alias(\"total_weekend_passengers\"))\n",
        "df_ordered_full = df_passenger_counts_full.orderBy(col(\"total_weekend_passengers\").desc())\n",
        "print('Drivers with the most number of passengers during weekends (full dataset):')\n",
        "df_ordered_full.show(1)"
      ],
      "execution_count": 19,
      "outputs": [
        {
          "output_type": "stream",
          "name": "stdout",
          "text": [
            "Drivers with the most number of passengers during weekends (full dataset):\n",
            "+--------+------------------------+\n",
            "|VendorID|total_weekend_passengers|\n",
            "+--------+------------------------+\n",
            "|       2|                14858253|\n",
            "+--------+------------------------+\n",
            "only showing top 1 row\n",
            "\n"
          ]
        }
      ]
    },
    {
      "cell_type": "markdown",
      "source": [
        "Answer - The driver with `VendorID = 2` had the most number of passengers during weekends."
      ],
      "metadata": {
        "id": "QiO0LMzV07bB"
      }
    },
    {
      "cell_type": "markdown",
      "metadata": {
        "id": "6c94f18a"
      },
      "source": [
        "### Answer q2 - tip to fare ratio on weekdays"
      ]
    },
    {
      "cell_type": "code",
      "metadata": {
        "colab": {
          "base_uri": "https://localhost:8080/"
        },
        "id": "c6e454d0",
        "outputId": "c65f68dc-8b3e-4ff7-ad4d-644538581a13"
      },
      "source": [
        "# 1. Filter for weekday trips\n",
        "df_weekdays_full = df_full.filter(~dayofweek(col(\"tpep_pickup_datetime\")).isin([1, 7]))\n",
        "\n",
        "# 2. Select relevant columns and 3. Calculate tip-to-fare ratio\n",
        "df_weekdays_with_ratio_full = df_weekdays_full.select(\"VendorID\", \"tip_amount\", \"fare_amount\") \\\n",
        "    .withColumn(\n",
        "    \"tip_fare_ratio\",\n",
        "    when(col(\"fare_amount\") > 0, col(\"tip_amount\") / col(\"fare_amount\")).otherwise(0.0)\n",
        ")\n",
        "\n",
        "# 4. Group by VendorID and 5. Calculate average ratio\n",
        "df_avg_tip_ratio_by_vendor_full = df_weekdays_with_ratio_full.groupBy(\"VendorID\") \\\n",
        "            .agg(avg(\"tip_fare_ratio\").alias(\"average_tip_fare_ratio\"))\n",
        "\n",
        "# 6. Order by average ratio\n",
        "df_avg_tip_ratio_ordered_full = df_avg_tip_ratio_by_vendor_full.orderBy(col(\"average_tip_fare_ratio\").desc())\n",
        "\n",
        "# 7. Display the top driver(s)\n",
        "print(\"Driver with most tip to fare ratio during weekdays (full dataset):-\")\n",
        "df_avg_tip_ratio_ordered_full.show(1)\n",
        "\n",
        "# 8. Delete temporary DataFrames\n",
        "df_weekdays_full.unpersist()\n",
        "df_weekdays_with_ratio_full.unpersist()\n",
        "df_avg_tip_ratio_by_vendor_full.unpersist()\n",
        "df_avg_tip_ratio_ordered_full.unpersist()"
      ],
      "execution_count": 20,
      "outputs": [
        {
          "output_type": "stream",
          "name": "stdout",
          "text": [
            "Driver with most tip to fare ratio during weekdays (full dataset):-\n",
            "+--------+----------------------+\n",
            "|VendorID|average_tip_fare_ratio|\n",
            "+--------+----------------------+\n",
            "|       1|   0.18602175713362476|\n",
            "+--------+----------------------+\n",
            "only showing top 1 row\n",
            "\n"
          ]
        },
        {
          "output_type": "execute_result",
          "data": {
            "text/plain": [
              "DataFrame[VendorID: int, average_tip_fare_ratio: double]"
            ]
          },
          "metadata": {},
          "execution_count": 20
        }
      ]
    },
    {
      "cell_type": "markdown",
      "source": [
        "Answer - The driver with `VendorID = 1` had the most tip to fare ratio during weekdays."
      ],
      "metadata": {
        "id": "X1K2n0Dx1LK9"
      }
    },
    {
      "cell_type": "markdown",
      "metadata": {
        "id": "2084424e"
      },
      "source": [
        "### Answer q3 - drivers avoiding tolls"
      ]
    },
    {
      "cell_type": "code",
      "metadata": {
        "colab": {
          "base_uri": "https://localhost:8080/"
        },
        "id": "3f691757",
        "outputId": "763f31a6-1488-49c2-8716-796cfe0876ba"
      },
      "source": [
        "# 1. Select relevant columns\n",
        "df_tolls = df_full.select(\"VendorID\", \"tolls_amount\")\n",
        "\n",
        "# 2. Group by VendorID and 3. Count trips with tolls\n",
        "toll_counts_by_vendor_full = df_tolls.groupBy('VendorID') \\\n",
        ".agg(\n",
        "    sum(when(col(\"tolls_amount\") > 0, 1).otherwise(0)).alias(\"trips_with_tolls\")\n",
        ")\n",
        "\n",
        "# 4. Order by trips_with_tolls in ascending order\n",
        "vendors_avoiding_tolls_full = toll_counts_by_vendor_full.orderBy(col(\"trips_with_tolls\").asc())\n",
        "\n",
        "# 5. Show the top driver(s)\n",
        "print('Drivers who avoided tolls the most (full dataset):-')\n",
        "vendors_avoiding_tolls_full.show(1)\n",
        "\n",
        "# 6. Unpersist temporary DataFrame\n",
        "df_tolls.unpersist()\n",
        "toll_counts_by_vendor_full.unpersist()\n",
        "vendors_avoiding_tolls_full.unpersist()"
      ],
      "execution_count": 21,
      "outputs": [
        {
          "output_type": "stream",
          "name": "stdout",
          "text": [
            "Drivers who avoided tolls the most (full dataset):-\n",
            "+--------+----------------+\n",
            "|VendorID|trips_with_tolls|\n",
            "+--------+----------------+\n",
            "|       1|         1016350|\n",
            "+--------+----------------+\n",
            "only showing top 1 row\n",
            "\n"
          ]
        },
        {
          "output_type": "execute_result",
          "data": {
            "text/plain": [
              "DataFrame[VendorID: int, trips_with_tolls: bigint]"
            ]
          },
          "metadata": {},
          "execution_count": 21
        }
      ]
    },
    {
      "cell_type": "markdown",
      "source": [
        "Answer - The driver with `VendorID = 1` avoided tolls the most."
      ],
      "metadata": {
        "id": "TPhGQZQ21XQ_"
      }
    },
    {
      "cell_type": "markdown",
      "metadata": {
        "id": "c0959e58"
      },
      "source": [
        "### Answer q4 - most frequent rate code"
      ]
    },
    {
      "cell_type": "code",
      "metadata": {
        "colab": {
          "base_uri": "https://localhost:8080/"
        },
        "id": "4a907a9a",
        "outputId": "c1eef5a2-ea14-4114-db4e-984a287ebedd"
      },
      "source": [
        "# 1. Select the RatecodeID column and 2. Group by RatecodeID and 3. Count trips\n",
        "rate_code_counts = df_full.groupBy(\"RatecodeID\").agg(\n",
        "    count(\"*\").alias(\"total_trips\")\n",
        ")\n",
        "\n",
        "# 4. Order by total_trips in descending order\n",
        "most_frequent_rate_code = rate_code_counts.orderBy(col(\"total_trips\").desc())\n",
        "\n",
        "# 5. Display the top result\n",
        "print('Rate code with most trips (full dataset):-')\n",
        "most_frequent_rate_code.show(1)\n",
        "\n",
        "# 6. Unpersist temporary DataFrames\n",
        "rate_code_counts.unpersist()\n",
        "most_frequent_rate_code.unpersist()"
      ],
      "execution_count": 22,
      "outputs": [
        {
          "output_type": "stream",
          "name": "stdout",
          "text": [
            "Rate code with most trips (full dataset):-\n",
            "+----------+-----------+\n",
            "|RatecodeID|total_trips|\n",
            "+----------+-----------+\n",
            "|         1|   46091898|\n",
            "+----------+-----------+\n",
            "only showing top 1 row\n",
            "\n"
          ]
        },
        {
          "output_type": "execute_result",
          "data": {
            "text/plain": [
              "DataFrame[RatecodeID: int, total_trips: bigint]"
            ]
          },
          "metadata": {},
          "execution_count": 22
        }
      ]
    },
    {
      "cell_type": "markdown",
      "source": [
        "Answer - The Rate Code with `RatecodeID = 1`, i. e., the Standard Rate, had the most trips."
      ],
      "metadata": {
        "id": "q1aZV_TM1dZs"
      }
    },
    {
      "cell_type": "markdown",
      "metadata": {
        "id": "a16e01f5"
      },
      "source": [
        "### Answer q5 - drivers with most trips at best rate code"
      ]
    },
    {
      "cell_type": "code",
      "metadata": {
        "colab": {
          "base_uri": "https://localhost:8080/"
        },
        "id": "94480e2c",
        "outputId": "269b2a34-de3f-4e0b-859b-00e9ac19c153"
      },
      "source": [
        "# 1. Retrieve the value of the best_rate_code\n",
        "best_rate_code = 1\n",
        "\n",
        "# 2. Filter the df_full DataFrame\n",
        "best_rate_code_trips = df_full.filter(col(\"RatecodeID\") == best_rate_code)\n",
        "\n",
        "# 3. Group by \"VendorID\" and 4. Count the number of trips\n",
        "trips_at_best_rate_by_vendor = best_rate_code_trips.groupBy('VendorID').agg(\n",
        "    count(\"*\").alias(\"trips_at_best_rate\")\n",
        ")\n",
        "\n",
        "# 5. Order the resulting DataFrame\n",
        "drivers_with_most_best_rate_trips = trips_at_best_rate_by_vendor.orderBy(col(\"trips_at_best_rate\").desc())\n",
        "\n",
        "# 6. Display the top driver(s)\n",
        "print(\"Drivers with the most best rate code trips (full dataset):-\")\n",
        "drivers_with_most_best_rate_trips.show(1)\n",
        "\n",
        "# Delete temporary dataframes\n",
        "best_rate_code_trips.unpersist()\n",
        "trips_at_best_rate_by_vendor.unpersist()\n",
        "drivers_with_most_best_rate_trips.unpersist()"
      ],
      "execution_count": 23,
      "outputs": [
        {
          "output_type": "stream",
          "name": "stdout",
          "text": [
            "Drivers with the most best rate code trips (full dataset):-\n",
            "+--------+------------------+\n",
            "|VendorID|trips_at_best_rate|\n",
            "+--------+------------------+\n",
            "|       2|          24387232|\n",
            "+--------+------------------+\n",
            "only showing top 1 row\n",
            "\n"
          ]
        },
        {
          "output_type": "execute_result",
          "data": {
            "text/plain": [
              "DataFrame[VendorID: int, trips_at_best_rate: bigint]"
            ]
          },
          "metadata": {},
          "execution_count": 23
        }
      ]
    },
    {
      "cell_type": "markdown",
      "source": [
        "Answer - The driver with `VendorID = 2`  rode the most best rate code, or the standard rate."
      ],
      "metadata": {
        "id": "E_c-lNIk1vBc"
      }
    }
  ]
}