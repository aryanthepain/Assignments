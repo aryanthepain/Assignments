{
 "cells": [
  {
   "cell_type": "markdown",
   "metadata": {},
   "source": [
    "# Lab Assignment 3 DA221\n",
    "\n",
    "- Name- Aryan Gupta\n",
    "- Roll- 230150003\n",
    "- Date- 17/02/25\n",
    "- Time- 15:06"
   ]
  },
  {
   "cell_type": "markdown",
   "metadata": {},
   "source": [
    "## Take input"
   ]
  },
  {
   "cell_type": "code",
   "execution_count": 114,
   "metadata": {},
   "outputs": [],
   "source": [
    "def take_input():\n",
    "    no_of_queries=4\n",
    "    graph={}\n",
    "\n",
    "    # creating graph dictionary\n",
    "    for i in range(no_of_queries):\n",
    "        node1=\"A\"\n",
    "        node2=\"B\"\n",
    "        weight=5\n",
    "        graph.update({node1:(node2,weight)})"
   ]
  },
  {
   "cell_type": "code",
   "execution_count": 115,
   "metadata": {},
   "outputs": [],
   "source": [
    "graph={\n",
    "    'A':[('B',1),('C',4)],\n",
    "    'B':[('C',2),('D',5)],\n",
    "    'C':[('D',1)],\n",
    "    'D':[],\n",
    "}"
   ]
  },
  {
   "cell_type": "markdown",
   "metadata": {},
   "source": [
    "## Breadth-First Search"
   ]
  },
  {
   "cell_type": "code",
   "execution_count": 116,
   "metadata": {},
   "outputs": [],
   "source": [
    "from queue import Queue"
   ]
  },
  {
   "cell_type": "code",
   "execution_count": 117,
   "metadata": {},
   "outputs": [],
   "source": [
    "def take_output(graph, parent, end_node, start_node, indices):\n",
    "    cost=0\n",
    "    path=[]\n",
    "    curr_node=end_node\n",
    "    \n",
    "    # traversing from child to parent till start node starting from end node\n",
    "    while(not curr_node==start_node):\n",
    "        path.append(curr_node)\n",
    "        siblings=graph.get(parent[indices[curr_node]])\n",
    "\n",
    "        # checking and adding cost\n",
    "        for i in siblings:\n",
    "            if i[0]==curr_node:\n",
    "                current_cost=i[1]\n",
    "                break\n",
    "        cost=cost+current_cost\n",
    "        curr_node=parent[indices[curr_node]]\n",
    "    path.append(curr_node)\n",
    "\n",
    "    # reversing the path\n",
    "    new_path=[]\n",
    "    for i in range(len(path)):\n",
    "        new_path.append(path[-i-1])\n",
    "    return new_path, cost\n",
    "\n",
    "def bfs(graph, start_node, end_node):\n",
    "    # error handling\n",
    "    if  start_node not in graph.keys():\n",
    "        print(\"Start Node does not exist\")\n",
    "        return [], -1\n",
    "    if  end_node not in graph.keys():\n",
    "        print(\"End Node does not exist\")\n",
    "        return [], -1\n",
    "\n",
    "    # creating indice list\n",
    "    indices={'':0}\n",
    "    counter=0\n",
    "    for i in graph.keys():\n",
    "        indices.update({i: counter})\n",
    "        counter=counter+1\n",
    "\n",
    "    # implementation\n",
    "    no_of_nodes=len(graph)\n",
    "    visited=[False]*no_of_nodes\n",
    "    parent=[-1]*no_of_nodes\n",
    "    q=Queue(maxsize=no_of_nodes)\n",
    "\n",
    "    # initialisation\n",
    "    q.put(start_node)\n",
    "\n",
    "    # loop\n",
    "    while(not q.empty()):\n",
    "        # defining current node and its attributes\n",
    "        current_node=q.get()\n",
    "        visited[indices[current_node]]=True\n",
    "        neighbours=graph[current_node]\n",
    "\n",
    "        # treating each neighbour\n",
    "        for i in neighbours:\n",
    "            # handling parent\n",
    "            if visited[indices[i[0]]]:\n",
    "                continue\n",
    "\n",
    "            q.put(i[0])\n",
    "            parent[indices[i[0]]]=current_node\n",
    "\n",
    "            # if found\n",
    "            if (i[0] == end_node):\n",
    "                return take_output(graph,parent,end_node,start_node, indices)\n",
    "    \n",
    "    return [], -1"
   ]
  },
  {
   "cell_type": "code",
   "execution_count": 118,
   "metadata": {},
   "outputs": [
    {
     "name": "stdout",
     "output_type": "stream",
     "text": [
      "['A', 'B', 'D']\n",
      "6\n"
     ]
    }
   ],
   "source": [
    "path, cost=bfs(graph,'A','D')\n",
    "print(path)\n",
    "print(cost)"
   ]
  },
  {
   "cell_type": "markdown",
   "metadata": {},
   "source": [
    "## Depth-First Search"
   ]
  },
  {
   "cell_type": "code",
   "execution_count": 119,
   "metadata": {},
   "outputs": [],
   "source": [
    "from queue import LifoQueue"
   ]
  },
  {
   "cell_type": "code",
   "execution_count": 120,
   "metadata": {},
   "outputs": [],
   "source": [
    "def dfs(graph, start, goal):\n",
    "    stack = [[start]]\n",
    "    accumulated_costs = [0]\n",
    "    explored_nodes = set()\n",
    "    \n",
    "    while stack:\n",
    "        current_path = stack.pop()\n",
    "        current_cost = accumulated_costs.pop()\n",
    "        current_node = current_path[-1]\n",
    "        \n",
    "        if current_node == goal:\n",
    "            return current_path, current_cost\n",
    "        \n",
    "        if current_node not in explored_nodes:\n",
    "            explored_nodes.add(current_node)\n",
    "            for neighbor, weight in reversed(graph.get(current_node, [])):\n",
    "                stack.append(current_path + [neighbor])\n",
    "                accumulated_costs.append(current_cost + weight)"
   ]
  },
  {
   "cell_type": "code",
   "execution_count": 121,
   "metadata": {},
   "outputs": [
    {
     "name": "stdout",
     "output_type": "stream",
     "text": [
      "['A', 'B', 'C', 'D']\n",
      "4\n"
     ]
    }
   ],
   "source": [
    "path, cost=dfs(graph,'A','D')\n",
    "print(path)\n",
    "print(cost)"
   ]
  },
  {
   "cell_type": "markdown",
   "metadata": {},
   "source": [
    "## Uniform-Cost Search (Djikstra's Algorithm)"
   ]
  },
  {
   "cell_type": "code",
   "execution_count": 122,
   "metadata": {},
   "outputs": [],
   "source": [
    "from queue import PriorityQueue"
   ]
  },
  {
   "cell_type": "code",
   "execution_count": 123,
   "metadata": {},
   "outputs": [],
   "source": [
    "def take_output(graph, parent, end_node, start_node, indices):\n",
    "    cost=0\n",
    "    path=[]\n",
    "    curr_node=end_node\n",
    "    \n",
    "    # traversing from child to parent till start node starting from end node\n",
    "    counter=0\n",
    "    while(not curr_node==start_node):\n",
    "        if counter>len(graph) or curr_node is None:\n",
    "            return [],-1\n",
    "        counter=counter+1\n",
    "        \n",
    "        path.append(curr_node)\n",
    "        siblings=graph.get(parent[indices[curr_node]])\n",
    "\n",
    "        # checking and adding cost\n",
    "        for i in siblings:\n",
    "            if i[0]==curr_node:\n",
    "                current_cost=i[1]\n",
    "                break\n",
    "        cost=cost+current_cost\n",
    "        curr_node=parent[indices[curr_node]]\n",
    "    path.append(curr_node)\n",
    "\n",
    "    # reversing the path\n",
    "    new_path=[]\n",
    "    for i in range(len(path)):\n",
    "        new_path.append(path[-i-1])\n",
    "    return new_path, cost\n",
    "\n",
    "def ucs(graph:dict, start_node:str, end_node:str):\n",
    "    # error handling\n",
    "    keys=graph.keys()\n",
    "    if start_node not in keys:\n",
    "        print(\"Start Node does not exist\")\n",
    "        return [], -1\n",
    "    if end_node not in keys:\n",
    "        print(\"End Node does not exist\")\n",
    "        return [], -1\n",
    "\n",
    "    # creating indice list\n",
    "    indices={}\n",
    "    counter=0\n",
    "    for i in keys:\n",
    "        indices.update({i: counter})\n",
    "        counter=counter+1\n",
    "\n",
    "    # implementation\n",
    "    no_of_nodes=len(graph)\n",
    "    visited=[False]*no_of_nodes\n",
    "    parent=[-1]*no_of_nodes\n",
    "    q=PriorityQueue()\n",
    "\n",
    "    # initialisation\n",
    "    q.put((0, start_node))\n",
    "\n",
    "    # loop\n",
    "    while(not q.empty()):\n",
    "        # defining current node and its attributes\n",
    "        current_cost, current_node=q.get()\n",
    "        visited[indices[current_node]]=True\n",
    "        neighbours=graph[current_node]\n",
    "\n",
    "        # treating each neighbour\n",
    "        for i in neighbours:\n",
    "            # handling parent\n",
    "            if visited[indices[i[0]]]:\n",
    "                continue\n",
    "\n",
    "            for n,c in graph[current_node]:\n",
    "                if n==i[0]:\n",
    "                    cost=c\n",
    "                    break\n",
    "\n",
    "            q.put((current_cost+cost,i[0]))\n",
    "            parent[indices[i[0]]]=current_node\n",
    "    \n",
    "    return take_output(graph,parent,end_node,start_node, indices)"
   ]
  },
  {
   "cell_type": "code",
   "execution_count": 124,
   "metadata": {},
   "outputs": [
    {
     "name": "stdout",
     "output_type": "stream",
     "text": [
      "['A', 'B', 'C', 'D']\n",
      "4\n"
     ]
    }
   ],
   "source": [
    "path, cost=ucs(graph,'A','D')\n",
    "print(path)\n",
    "print(cost)"
   ]
  },
  {
   "cell_type": "markdown",
   "metadata": {},
   "source": [
    "## A* Search Algorithm"
   ]
  },
  {
   "cell_type": "code",
   "execution_count": 125,
   "metadata": {},
   "outputs": [],
   "source": [
    "# Heuristic function for A* search (assumed)\n",
    "estimated_costs = {\n",
    "    'A': 3,\n",
    "    'B': 2,\n",
    "    'C': 1,\n",
    "    'D': 0  \n",
    "}"
   ]
  },
  {
   "cell_type": "code",
   "execution_count": 126,
   "metadata": {},
   "outputs": [],
   "source": [
    "def astar_search(graph, start, goal):\n",
    "    queue = [[start]]\n",
    "    accumulated_costs = [0]\n",
    "    explored_nodes = set()\n",
    "    \n",
    "    while queue:\n",
    "        min_index = accumulated_costs.index(min(accumulated_costs))\n",
    "        current_path = queue.pop(min_index)\n",
    "        current_cost = accumulated_costs.pop(min_index)\n",
    "        current_node = current_path[-1]\n",
    "        \n",
    "        if current_node == goal:\n",
    "            return current_path, current_cost\n",
    "        \n",
    "        if current_node not in explored_nodes:\n",
    "            explored_nodes.add(current_node)\n",
    "            for neighbor, weight in graph.get(current_node, []):\n",
    "                queue.append(current_path + [neighbor])\n",
    "                accumulated_costs.append(current_cost + weight + estimated_costs[neighbor])\n",
    "    \n",
    "    return None, float('inf')"
   ]
  },
  {
   "cell_type": "code",
   "execution_count": 127,
   "metadata": {},
   "outputs": [
    {
     "name": "stdout",
     "output_type": "stream",
     "text": [
      "['A', 'C', 'D']\n",
      "6\n"
     ]
    }
   ],
   "source": [
    "path, cost=astar_search(graph,'A','D')\n",
    "print(path)\n",
    "print(cost)"
   ]
  },
  {
   "cell_type": "markdown",
   "metadata": {},
   "source": [
    "## Comparision"
   ]
  },
  {
   "cell_type": "code",
   "execution_count": 129,
   "metadata": {},
   "outputs": [
    {
     "name": "stdout",
     "output_type": "stream",
     "text": [
      "BFS Path: ['A', 'B', 'D'] Cost: 6\n",
      "DFS Path: ['A', 'B', 'C', 'D'] Cost: 4\n",
      "UCS Path: ['A', 'B', 'C', 'D'] Cost: 4\n",
      "A* Path: ['A', 'C', 'D'] Cost: 6\n"
     ]
    }
   ],
   "source": [
    "# Executing all search algorithms\n",
    "bfs_path, bfs_cost = bfs(graph, 'A', 'D')\n",
    "dfs_path, dfs_cost = dfs(graph, 'A', 'D')\n",
    "ucs_path, ucs_cost = ucs(graph, 'A', 'D')\n",
    "astar_path, astar_cost = astar_search(graph, 'A', 'D')\n",
    " \n",
    "# Displaying the outcomes\n",
    "print(\"BFS Path:\", bfs_path, \"Cost:\", bfs_cost)\n",
    "print(\"DFS Path:\", dfs_path, \"Cost:\", dfs_cost)\n",
    "print(\"UCS Path:\", ucs_path, \"Cost:\", ucs_cost)\n",
    "print(\"A* Path:\", astar_path, \"Cost:\", astar_cost)"
   ]
  }
 ],
 "metadata": {
  "kernelspec": {
   "display_name": "Python 3",
   "language": "python",
   "name": "python3"
  },
  "language_info": {
   "codemirror_mode": {
    "name": "ipython",
    "version": 3
   },
   "file_extension": ".py",
   "mimetype": "text/x-python",
   "name": "python",
   "nbconvert_exporter": "python",
   "pygments_lexer": "ipython3",
   "version": "3.10.12"
  }
 },
 "nbformat": 4,
 "nbformat_minor": 2
}
