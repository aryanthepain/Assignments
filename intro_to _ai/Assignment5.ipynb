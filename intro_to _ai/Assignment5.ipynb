{
  "cells": [
    {
      "cell_type": "markdown",
      "metadata": {
        "id": "GqmnmQsDakVa"
      },
      "source": [
        "# Lab Assignment\n",
        "\n",
        "- Name- Aryan Gupta\n",
        "- Roll- 230150003\n",
        "- Date- 24/03/2005\n",
        "- Time- 14:41"
      ]
    },
    {
      "cell_type": "markdown",
      "metadata": {
        "id": "nHXBy9JwbsPF"
      },
      "source": [
        "## Installing libraries"
      ]
    },
    {
      "cell_type": "code",
      "execution_count": 1,
      "metadata": {
        "id": "GtLjFmb2aaYn"
      },
      "outputs": [],
      "source": [
        "# !pip install pyswip"
      ]
    },
    {
      "cell_type": "code",
      "execution_count": 2,
      "metadata": {
        "id": "WBI9_4cqbFIU"
      },
      "outputs": [],
      "source": [
        "# !sudo apt-get install swi-prolog"
      ]
    },
    {
      "cell_type": "code",
      "execution_count": null,
      "metadata": {
        "id": "MsZwt2xfb5os"
      },
      "outputs": [
        {
          "ename": "SwiPrologNotFoundError",
          "evalue": "SWI-Prolog not found",
          "output_type": "error",
          "traceback": [
            "\u001b[1;31m---------------------------------------------------------------------------\u001b[0m",
            "\u001b[1;31mSwiPrologNotFoundError\u001b[0m                    Traceback (most recent call last)",
            "Cell \u001b[1;32mIn[4], line 1\u001b[0m\n\u001b[1;32m----> 1\u001b[0m \u001b[38;5;28;01mfrom\u001b[39;00m \u001b[38;5;21;01mpyswip\u001b[39;00m \u001b[38;5;28;01mimport\u001b[39;00m Prolog\n\u001b[0;32m      2\u001b[0m prolog \u001b[38;5;241m=\u001b[39m Prolog ()\n",
            "File \u001b[1;32mc:\\Users\\Aryan Gupta\\AppData\\Local\\Programs\\Python\\Python312\\Lib\\site-packages\\pyswip\\__init__.py:24\u001b[0m\n\u001b[0;32m      1\u001b[0m \u001b[38;5;66;03m# -*- coding: utf-8 -*-\u001b[39;00m\n\u001b[0;32m      2\u001b[0m \u001b[38;5;66;03m# Copyright (c) 2007-2024 Yüce Tekol and PySwip Contributors\u001b[39;00m\n\u001b[0;32m      3\u001b[0m \u001b[38;5;66;03m#\u001b[39;00m\n\u001b[1;32m   (...)\u001b[0m\n\u001b[0;32m     19\u001b[0m \u001b[38;5;66;03m# OUT OF OR IN CONNECTION WITH THE SOFTWARE OR THE USE OR OTHER DEALINGS IN THE\u001b[39;00m\n\u001b[0;32m     20\u001b[0m \u001b[38;5;66;03m# SOFTWARE.\u001b[39;00m\n\u001b[0;32m     22\u001b[0m __VERSION__ \u001b[38;5;241m=\u001b[39m \u001b[38;5;124m\"\u001b[39m\u001b[38;5;124m0.3.2\u001b[39m\u001b[38;5;124m\"\u001b[39m\n\u001b[1;32m---> 24\u001b[0m \u001b[38;5;28;01mfrom\u001b[39;00m \u001b[38;5;21;01mpyswip\u001b[39;00m\u001b[38;5;21;01m.\u001b[39;00m\u001b[38;5;21;01mprolog\u001b[39;00m \u001b[38;5;28;01mimport\u001b[39;00m Prolog \u001b[38;5;28;01mas\u001b[39;00m Prolog\n\u001b[0;32m     25\u001b[0m \u001b[38;5;28;01mfrom\u001b[39;00m \u001b[38;5;21;01mpyswip\u001b[39;00m\u001b[38;5;21;01m.\u001b[39;00m\u001b[38;5;21;01measy\u001b[39;00m \u001b[38;5;28;01mimport\u001b[39;00m \u001b[38;5;241m*\u001b[39m\n\u001b[0;32m     26\u001b[0m \u001b[38;5;28;01mfrom\u001b[39;00m \u001b[38;5;21;01mpyswip\u001b[39;00m\u001b[38;5;21;01m.\u001b[39;00m\u001b[38;5;21;01mcore\u001b[39;00m \u001b[38;5;28;01mimport\u001b[39;00m \u001b[38;5;241m*\u001b[39m\n",
            "File \u001b[1;32mc:\\Users\\Aryan Gupta\\AppData\\Local\\Programs\\Python\\Python312\\Lib\\site-packages\\pyswip\\prolog.py:32\u001b[0m\n\u001b[0;32m     29\u001b[0m \u001b[38;5;28;01mfrom\u001b[39;00m \u001b[38;5;21;01mpathlib\u001b[39;00m \u001b[38;5;28;01mimport\u001b[39;00m Path\n\u001b[0;32m     31\u001b[0m \u001b[38;5;28;01mfrom\u001b[39;00m \u001b[38;5;21;01mpyswip\u001b[39;00m\u001b[38;5;21;01m.\u001b[39;00m\u001b[38;5;21;01mutils\u001b[39;00m \u001b[38;5;28;01mimport\u001b[39;00m resolve_path\n\u001b[1;32m---> 32\u001b[0m \u001b[38;5;28;01mfrom\u001b[39;00m \u001b[38;5;21;01mpyswip\u001b[39;00m\u001b[38;5;21;01m.\u001b[39;00m\u001b[38;5;21;01mcore\u001b[39;00m \u001b[38;5;28;01mimport\u001b[39;00m (\n\u001b[0;32m     33\u001b[0m     SWI_HOME_DIR,\n\u001b[0;32m     34\u001b[0m     PL_STRING,\n\u001b[0;32m     35\u001b[0m     REP_UTF8,\n\u001b[0;32m     36\u001b[0m     PL_Q_NODEBUG,\n\u001b[0;32m     37\u001b[0m     PL_Q_CATCH_EXCEPTION,\n\u001b[0;32m     38\u001b[0m     PL_Q_NORMAL,\n\u001b[0;32m     39\u001b[0m     PL_FA_NONDETERMINISTIC,\n\u001b[0;32m     40\u001b[0m     CFUNCTYPE,\n\u001b[0;32m     41\u001b[0m     PL_initialise,\n\u001b[0;32m     42\u001b[0m     PL_open_foreign_frame,\n\u001b[0;32m     43\u001b[0m     PL_new_term_ref,\n\u001b[0;32m     44\u001b[0m     PL_chars_to_term,\n\u001b[0;32m     45\u001b[0m     PL_call,\n\u001b[0;32m     46\u001b[0m     PL_discard_foreign_frame,\n\u001b[0;32m     47\u001b[0m     PL_new_term_refs,\n\u001b[0;32m     48\u001b[0m     PL_put_chars,\n\u001b[0;32m     49\u001b[0m     PL_predicate,\n\u001b[0;32m     50\u001b[0m     PL_open_query,\n\u001b[0;32m     51\u001b[0m     PL_next_solution,\n\u001b[0;32m     52\u001b[0m     PL_copy_term_ref,\n\u001b[0;32m     53\u001b[0m     PL_exception,\n\u001b[0;32m     54\u001b[0m     PL_cut_query,\n\u001b[0;32m     55\u001b[0m     PL_thread_self,\n\u001b[0;32m     56\u001b[0m     PL_thread_attach_engine,\n\u001b[0;32m     57\u001b[0m     PL_register_foreign_in_module,\n\u001b[0;32m     58\u001b[0m     foreign_t,\n\u001b[0;32m     59\u001b[0m     term_t,\n\u001b[0;32m     60\u001b[0m     control_t,\n\u001b[0;32m     61\u001b[0m )\n\u001b[0;32m     64\u001b[0m __all__ \u001b[38;5;241m=\u001b[39m \u001b[38;5;124m\"\u001b[39m\u001b[38;5;124mPrologError\u001b[39m\u001b[38;5;124m\"\u001b[39m, \u001b[38;5;124m\"\u001b[39m\u001b[38;5;124mNestedQueryError\u001b[39m\u001b[38;5;124m\"\u001b[39m, \u001b[38;5;124m\"\u001b[39m\u001b[38;5;124mProlog\u001b[39m\u001b[38;5;124m\"\u001b[39m\n\u001b[0;32m     67\u001b[0m RE_PLACEHOLDER \u001b[38;5;241m=\u001b[39m re\u001b[38;5;241m.\u001b[39mcompile(\u001b[38;5;124mr\u001b[39m\u001b[38;5;124m\"\u001b[39m\u001b[38;5;124m%\u001b[39m\u001b[38;5;124mp\u001b[39m\u001b[38;5;124m\"\u001b[39m)\n",
            "File \u001b[1;32mc:\\Users\\Aryan Gupta\\AppData\\Local\\Programs\\Python\\Python312\\Lib\\site-packages\\pyswip\\core.py:504\u001b[0m\n\u001b[0;32m    499\u001b[0m     \u001b[38;5;28;01mreturn\u001b[39;00m checker\n\u001b[0;32m    502\u001b[0m \u001b[38;5;66;03m# Find the path and resource file. SWI_HOME_DIR shall be treated as a constant\u001b[39;00m\n\u001b[0;32m    503\u001b[0m \u001b[38;5;66;03m# by users of this module\u001b[39;00m\n\u001b[1;32m--> 504\u001b[0m _path, SWI_HOME_DIR \u001b[38;5;241m=\u001b[39m \u001b[43m_find_swipl\u001b[49m\u001b[43m(\u001b[49m\u001b[43m)\u001b[49m\n\u001b[0;32m    506\u001b[0m \u001b[38;5;66;03m# Load the library\u001b[39;00m\n\u001b[0;32m    507\u001b[0m _lib \u001b[38;5;241m=\u001b[39m CDLL(_path, mode\u001b[38;5;241m=\u001b[39mRTLD_GLOBAL)\n",
            "File \u001b[1;32mc:\\Users\\Aryan Gupta\\AppData\\Local\\Programs\\Python\\Python312\\Lib\\site-packages\\pyswip\\core.py:352\u001b[0m, in \u001b[0;36m_find_swipl\u001b[1;34m()\u001b[0m\n\u001b[0;32m    350\u001b[0m platform \u001b[38;5;241m=\u001b[39m sys\u001b[38;5;241m.\u001b[39mplatform\n\u001b[0;32m    351\u001b[0m \u001b[38;5;28;01mif\u001b[39;00m platform \u001b[38;5;241m==\u001b[39m \u001b[38;5;124m\"\u001b[39m\u001b[38;5;124mwin32\u001b[39m\u001b[38;5;124m\"\u001b[39m:\n\u001b[1;32m--> 352\u001b[0m     libswipl_path, swi_home_dir \u001b[38;5;241m=\u001b[39m \u001b[43m_find_swipl_windows\u001b[49m\u001b[43m(\u001b[49m\u001b[43m)\u001b[49m\n\u001b[0;32m    353\u001b[0m     fix_windows_path(libswipl_path)\n\u001b[0;32m    354\u001b[0m     \u001b[38;5;28;01mreturn\u001b[39;00m libswipl_path, swi_home_dir\n",
            "File \u001b[1;32mc:\\Users\\Aryan Gupta\\AppData\\Local\\Programs\\Python\\Python312\\Lib\\site-packages\\pyswip\\core.py:188\u001b[0m, in \u001b[0;36m_find_swipl_windows\u001b[1;34m()\u001b[0m\n\u001b[0;32m    183\u001b[0m         \u001b[38;5;28;01mraise\u001b[39;00m SwiPrologNotFoundError(\n\u001b[0;32m    184\u001b[0m             \u001b[38;5;124mf\u001b[39m\u001b[38;5;124m\"\u001b[39m\u001b[38;5;124mcould not locate \u001b[39m\u001b[38;5;132;01m{\u001b[39;00mlibswipl\u001b[38;5;132;01m}\u001b[39;00m\u001b[38;5;124m at \u001b[39m\u001b[38;5;132;01m{\u001b[39;00mlibswipl_path\u001b[38;5;132;01m}\u001b[39;00m\u001b[38;5;124m\"\u001b[39m\n\u001b[0;32m    185\u001b[0m         )\n\u001b[0;32m    186\u001b[0m     \u001b[38;5;28;01mreturn\u001b[39;00m libswipl_path, swi_dir\n\u001b[1;32m--> 188\u001b[0m \u001b[38;5;28;01mraise\u001b[39;00m SwiPrologNotFoundError\n",
            "\u001b[1;31mSwiPrologNotFoundError\u001b[0m: SWI-Prolog not found"
          ]
        }
      ],
      "source": [
        "from pyswip import Prolog , registerForeign\n",
        "prolog = Prolog ()"
      ]
    },
    {
      "cell_type": "markdown",
      "metadata": {
        "id": "fCOaHdeEbxCP"
      },
      "source": [
        "## Practice"
      ]
    },
    {
      "cell_type": "code",
      "execution_count": null,
      "metadata": {
        "colab": {
          "base_uri": "https://localhost:8080/"
        },
        "id": "WMSi6f_mbLxa",
        "outputId": "eb3bcf76-c72f-4c1f-9dd5-ab218f87cbae"
      },
      "outputs": [
        {
          "name": "stdout",
          "output_type": "stream",
          "text": [
            "jane is child of michael\n"
          ]
        }
      ],
      "source": [
        "prolog.assertz(\"father(michael,jane)\")\n",
        "prolog.assertz(\"child(X,Y):-father(Y,X)\")\n",
        "\n",
        "for solns in prolog.query(\"child(X,Y)\"): # X and Y are prolog variables . This two lines simply print all child relationships .\n",
        "  print(solns[\"X\"],\"is child of\", solns[\"Y\"])"
      ]
    },
    {
      "cell_type": "code",
      "execution_count": null,
      "metadata": {
        "colab": {
          "base_uri": "https://localhost:8080/"
        },
        "id": "-Vp0A3ZFckg5",
        "outputId": "d4584754-cbc1-4ed3-855f-534e53990f0e"
      },
      "outputs": [
        {
          "name": "stdout",
          "output_type": "stream",
          "text": [
            "Albert is grandparent of carl\n",
            "Albert is grandparent of charlie\n",
            "Carl is grandchild of albert\n",
            "Carl is grandchild of alice\n"
          ]
        }
      ],
      "source": [
        "prolog.consult(\"./1.pl\")\n",
        "\n",
        "for soln in prolog.query(\"grandparent(albert, X)\"):\n",
        "    print(\"Albert is grandparent of\", soln[\"X\"])\n",
        "\n",
        "for soln in prolog.query(\"grandchild(carl,X)\"):\n",
        "    print(\"Carl is grandchild of\", soln[\"X\"])"
      ]
    },
    {
      "cell_type": "markdown",
      "metadata": {
        "id": "l1r6OSqhg-vI"
      },
      "source": [
        "## Question 1"
      ]
    },
    {
      "cell_type": "code",
      "execution_count": null,
      "metadata": {
        "id": "TR5-yd2kd1mA"
      },
      "outputs": [],
      "source": [
        "prolog.consult(\"./2.pl\")"
      ]
    },
    {
      "cell_type": "code",
      "execution_count": null,
      "metadata": {
        "colab": {
          "base_uri": "https://localhost:8080/"
        },
        "id": "LE8ysjIrhBIc",
        "outputId": "a027d87e-6805-4fbe-cdec-77bc61cb46dc"
      },
      "outputs": [
        {
          "name": "stdout",
          "output_type": "stream",
          "text": [
            "alice is sister of edward\n",
            "alice is sister of alice\n"
          ]
        }
      ],
      "source": [
        "for solns in prolog.query(\"sister_of(X,Y)\"):\n",
        "  print(solns[\"X\"],\"is sister of\", solns[\"Y\"])"
      ]
    },
    {
      "cell_type": "markdown",
      "metadata": {
        "id": "GJI5Yv2FkIpS"
      },
      "source": [
        "The code checks relation of X and Y using Sister_of(). This checks X must be a female and both X and Y must have same parent. However, it does not check for X and Y to not be the same person.\n",
        "\n",
        "\n",
        "---\n",
        "\n",
        "\n",
        "So for outputs:-\n",
        "- `alice is the sister of edward` -\n",
        "According to rule, alice is female and both edward and alice have same parents.\n",
        "- `alice is the sister of alice` -\n",
        "According to rule, alice is female and has same parents as herself."
      ]
    },
    {
      "cell_type": "markdown",
      "metadata": {
        "id": "R8uG-IXZliFk"
      },
      "source": [
        "## Question 2"
      ]
    },
    {
      "cell_type": "code",
      "execution_count": null,
      "metadata": {
        "colab": {
          "base_uri": "https://localhost:8080/"
        },
        "id": "m0pb-s53l5N3",
        "outputId": "bd7ebe92-43e6-444d-9474-66969e64223b"
      },
      "outputs": [
        {
          "name": "stdout",
          "output_type": "stream",
          "text": [
            "[]\n"
          ]
        }
      ],
      "source": [
        "print(list(prolog.query(\"pilots(A,london)=pilots(london,paris)\")))"
      ]
    },
    {
      "cell_type": "markdown",
      "metadata": {
        "id": "3By4Rwc0nbz3"
      },
      "source": [
        "`london!=paris`, hence the output is false."
      ]
    },
    {
      "cell_type": "code",
      "execution_count": null,
      "metadata": {
        "colab": {
          "base_uri": "https://localhost:8080/"
        },
        "id": "n-eplM5xmmrZ",
        "outputId": "dbf0d5a2-b7ed-46db-de62-e04d5430d467"
      },
      "outputs": [
        {
          "name": "stdout",
          "output_type": "stream",
          "text": [
            "[{'X': Variable(71), 'Y': Variable(74), 'Z': Variable(77), 'X1': Variable(80), 'Y1': Variable(83), 'Z1': Variable(86)}]\n"
          ]
        }
      ],
      "source": [
        "print(list(prolog.query(\"point(X,Y,Z) = point(X1,Y1,Z1).\")))"
      ]
    },
    {
      "cell_type": "markdown",
      "metadata": {
        "id": "WNJhwB0xr9Iw"
      },
      "source": [
        "They have same functor and same number of arguments, hence the instantiations are as follows:-\n",
        "- `X = X1`\n",
        "- `Y = Y1`\n",
        "- `Z = Z1`"
      ]
    },
    {
      "cell_type": "code",
      "execution_count": null,
      "metadata": {
        "colab": {
          "base_uri": "https://localhost:8080/"
        },
        "id": "eDAJbDxvnu8r",
        "outputId": "5fe104fe-22da-4419-b669-bf526760a50c"
      },
      "outputs": [
        {
          "name": "stdout",
          "output_type": "stream",
          "text": [
            "[]\n"
          ]
        }
      ],
      "source": [
        "print(list(prolog.query(\"letter(C) = word(letter).\")))"
      ]
    },
    {
      "cell_type": "markdown",
      "metadata": {
        "id": "yNyPZnPNq3jy"
      },
      "source": [
        "The two functors are different, hence `false`."
      ]
    },
    {
      "cell_type": "code",
      "execution_count": null,
      "metadata": {
        "colab": {
          "base_uri": "https://localhost:8080/"
        },
        "id": "ypKLg0P4q1Qs",
        "outputId": "0b7f11b1-3066-45d1-a918-3534b729d44d"
      },
      "outputs": [
        {
          "name": "stdout",
          "output_type": "stream",
          "text": [
            "[]\n"
          ]
        }
      ],
      "source": [
        "print(list(prolog.query(\"noun(alpha) = alpha.\")))"
      ]
    },
    {
      "cell_type": "markdown",
      "metadata": {
        "id": "jHSvecixsW7Q"
      },
      "source": [
        "`noun(alpha)` is fact, while `alpha` is atom. Hence, `false`."
      ]
    },
    {
      "cell_type": "code",
      "execution_count": null,
      "metadata": {
        "colab": {
          "base_uri": "https://localhost:8080/"
        },
        "id": "gl4e7amdrVGN",
        "outputId": "e46879df-23f4-4e32-dd29-1ed2aeb8142f"
      },
      "outputs": [
        {
          "name": "stdout",
          "output_type": "stream",
          "text": [
            "[{}]\n"
          ]
        }
      ],
      "source": [
        "print(list(prolog.query(\"'vicar' = vicar.\")))"
      ]
    },
    {
      "cell_type": "markdown",
      "metadata": {
        "id": "g4gGLdHRs3v5"
      },
      "source": [
        "One is string and one is atom. Hence, `false`."
      ]
    },
    {
      "cell_type": "code",
      "execution_count": null,
      "metadata": {
        "colab": {
          "base_uri": "https://localhost:8080/"
        },
        "id": "cWbRppdnshgJ",
        "outputId": "520c0ed4-87c9-4265-dfd5-1ae34cf4fd7a"
      },
      "outputs": [
        {
          "name": "stdout",
          "output_type": "stream",
          "text": [
            "[]\n"
          ]
        }
      ],
      "source": [
        "print(list(prolog.query(\"f(X,X) = f(a,b)\")))"
      ]
    },
    {
      "cell_type": "markdown",
      "metadata": {
        "id": "UHPHCHUds9OK"
      },
      "source": [
        "First functor has both arguments same, and same should be the case with `a` and `b`. But they are not the same, hence `false`."
      ]
    },
    {
      "cell_type": "code",
      "execution_count": null,
      "metadata": {
        "colab": {
          "base_uri": "https://localhost:8080/"
        },
        "id": "o7lnrfonshFB",
        "outputId": "beaa52d6-6beb-495e-a19d-04e13befca12"
      },
      "outputs": [
        {
          "name": "stdout",
          "output_type": "stream",
          "text": [
            "[{'X': 'b', 'Z': 'b'}]\n"
          ]
        }
      ],
      "source": [
        "print(list(prolog.query(\"f(X,a(b,c)) = f(Z,a(Z,c))\")))"
      ]
    },
    {
      "cell_type": "markdown",
      "metadata": {
        "id": "Q8IW2cPmtfop"
      },
      "source": [
        "Query succeeds\n",
        "- `Z = b`\n",
        "- `X = Z` or `X = b`"
      ]
    },
    {
      "cell_type": "markdown",
      "metadata": {
        "id": "K0rcP4_ft1MG"
      },
      "source": [
        "## Question 3"
      ]
    },
    {
      "cell_type": "code",
      "execution_count": null,
      "metadata": {
        "id": "3Jj-xM6cvpOt"
      },
      "outputs": [],
      "source": [
        "# base case\n",
        "prolog.assertz(\"palindrome([])\")\n",
        "prolog.assertz(\"palindrome([_])\")\n",
        "# split the tail and keep the part where last element is equal to head\n",
        "prolog.assertz(\"palindrome(L) :- L = [H|T], append(M, [H], T), palindrome(M)\")"
      ]
    },
    {
      "cell_type": "code",
      "execution_count": null,
      "metadata": {
        "colab": {
          "base_uri": "https://localhost:8080/"
        },
        "id": "7bVQjv2Q0-Xf",
        "outputId": "0658f204-61e8-4488-b7fc-5fcbaac01f22"
      },
      "outputs": [
        {
          "name": "stdout",
          "output_type": "stream",
          "text": [
            "isPalindrome?\n",
            "madam- True\n",
            "sir- False\n"
          ]
        }
      ],
      "source": [
        "print(\"isPalindrome?\")\n",
        "print(\"madam-\",bool(list(prolog.query(\"palindrome(['m','a','d','a','m'])\"))))\n",
        "print(\"sir-\",bool(list(prolog.query(\"palindrome(['s','i','r'])\"))))"
      ]
    },
    {
      "cell_type": "markdown",
      "metadata": {
        "id": "J94mJ6Qy1un2"
      },
      "source": [
        "## Question 4"
      ]
    },
    {
      "cell_type": "code",
      "execution_count": null,
      "metadata": {
        "colab": {
          "base_uri": "https://localhost:8080/"
        },
        "id": "LOnXkWBW1YL8",
        "outputId": "a2269554-9cda-493a-8058-5cfbdacbff64"
      },
      "outputs": [
        {
          "name": "stdout",
          "output_type": "stream",
          "text": [
            "fib(5, F) => F = 5\n",
            "fib(10, F) => F = 55\n",
            "fib(50, F) => F = 12586269025\n"
          ]
        }
      ],
      "source": [
        "prolog.assertz(\"fib_acc(0, A, _, A)\")\n",
        "\n",
        "prolog.assertz(\"fib_acc(N, A, B, F) :- N > 0, N1 is N - 1, Sum is A + B, fib_acc(N1, B, Sum, F)\")\n",
        "\n",
        "prolog.assertz(\"fib(N, F) :- fib_acc(N, 0, 1, F)\")\n",
        "\n",
        "def query_fib(n):\n",
        "    query_str = f\"fib({n}, F)\"\n",
        "    solutions = list(prolog.query(query_str))\n",
        "    if solutions:\n",
        "        result = solutions[0]['F']\n",
        "        print(f\"fib({n}, F) => F = {result}\")\n",
        "    else:\n",
        "        print(f\"No solution found for fib({n}, F)\")\n",
        "\n",
        "# Query examples:\n",
        "query_fib(5)\n",
        "query_fib(10)\n",
        "query_fib(50)"
      ]
    },
    {
      "cell_type": "markdown",
      "metadata": {
        "id": "CXqjGnr04Ppp"
      },
      "source": [
        "## Question 5"
      ]
    },
    {
      "cell_type": "code",
      "execution_count": null,
      "metadata": {
        "colab": {
          "base_uri": "https://localhost:8080/"
        },
        "id": "oGbdEBQo2e92",
        "outputId": "2f4e64ee-579c-476e-de1d-a71f32e5bcb9"
      },
      "outputs": [
        {
          "name": "stdout",
          "output_type": "stream",
          "text": [
            "sum_nat(5, S) => S = 15\n",
            "sum_nat(10, S) => S = 55\n"
          ]
        }
      ],
      "source": [
        "prolog.assertz(\"sum_nat(0, 0)\")\n",
        "prolog.assertz(\"sum_nat(N, S) :- N > 0, N1 is N - 1, sum_nat(N1, S1), S is S1 + N\")\n",
        "\n",
        "def query_sum_nat(n):\n",
        "    query_str = f\"sum_nat({n}, S)\"\n",
        "    solutions = list(prolog.query(query_str))\n",
        "    if solutions:\n",
        "        result = solutions[0]['S']\n",
        "        print(f\"sum_nat({n}, S) => S = {result}\")\n",
        "    else:\n",
        "        print(f\"No solution found for sum_nat({n}, S)\")\n",
        "\n",
        "# Example Queries:\n",
        "query_sum_nat(5)\n",
        "query_sum_nat(10)"
      ]
    },
    {
      "cell_type": "markdown",
      "metadata": {
        "id": "DgpaYhMz5tFC"
      },
      "source": [
        "## Question 6"
      ]
    },
    {
      "cell_type": "code",
      "execution_count": null,
      "metadata": {
        "colab": {
          "base_uri": "https://localhost:8080/"
        },
        "id": "LVT7nTAu40RH",
        "outputId": "1baade51-3849-48b2-936e-0db0bf2dc3a5"
      },
      "outputs": [
        {
          "name": "stdout",
          "output_type": "stream",
          "text": [
            "average([1, 2, 3], Avg) => Avg = 2\n",
            "average([5, 10, 15], Avg) => Avg = 10\n"
          ]
        }
      ],
      "source": [
        "prolog.assertz(\"sum_list([], 0)\")\n",
        "\n",
        "prolog.assertz(\"sum_list([H|T], Sum) :- sum_list(T, Rest), Sum is H + Rest\")\n",
        "\n",
        "prolog.assertz(\"length_list([], 0)\")\n",
        "\n",
        "prolog.assertz(\"length_list([_|T], Len) :- length_list(T, RestLen), Len is RestLen + 1\")\n",
        "\n",
        "prolog.assertz(\"average(List, Avg) :- sum_list(List, Sum), length_list(List, Len), Len > 0, Avg is Sum / Len\")\n",
        "\n",
        "def query_average(lst):\n",
        "    prolog_list = \"[\" + \",\".join(map(str, lst)) + \"]\"\n",
        "    query_str = f\"average({prolog_list}, Avg)\"\n",
        "    solutions = list(prolog.query(query_str))\n",
        "    if solutions:\n",
        "        result = solutions[0]['Avg']\n",
        "        print(f\"average({lst}, Avg) => Avg = {result}\")\n",
        "    else:\n",
        "        print(f\"No solution found for average({lst}, Avg)\")\n",
        "\n",
        "# Example Query:\n",
        "query_average([1, 2, 3])\n",
        "query_average([5, 10, 15])"
      ]
    }
  ],
  "metadata": {
    "colab": {
      "collapsed_sections": [
        "nHXBy9JwbsPF",
        "fCOaHdeEbxCP",
        "l1r6OSqhg-vI",
        "R8uG-IXZliFk"
      ],
      "provenance": []
    },
    "kernelspec": {
      "display_name": "Python 3",
      "name": "python3"
    },
    "language_info": {
      "codemirror_mode": {
        "name": "ipython",
        "version": 3
      },
      "file_extension": ".py",
      "mimetype": "text/x-python",
      "name": "python",
      "nbconvert_exporter": "python",
      "pygments_lexer": "ipython3",
      "version": "3.12.3"
    }
  },
  "nbformat": 4,
  "nbformat_minor": 0
}
