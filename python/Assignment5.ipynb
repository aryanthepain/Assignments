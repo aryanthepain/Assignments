{
 "cells": [
  {
   "cell_type": "markdown",
   "metadata": {},
   "source": [
    "# Assignment 5 DA213\n",
    "\n",
    "- Name- Aryan Gupta\n",
    "- Roll- 230150003\n",
    "- Date- 18/02/25\n",
    "- Time- 14:30"
   ]
  },
  {
   "cell_type": "markdown",
   "metadata": {},
   "source": [
    "## Task A"
   ]
  },
  {
   "cell_type": "markdown",
   "metadata": {
    "vscode": {
     "languageId": "plaintext"
    }
   },
   "source": [
    "### Defining class"
   ]
  },
  {
   "cell_type": "code",
   "execution_count": 13,
   "metadata": {},
   "outputs": [],
   "source": [
    "# defining each room as a class\n",
    "class Room:\n",
    "    def __init__(self, rn=0, name:str=''):\n",
    "        # adding default values upon initialisation\n",
    "        self.Room_number=rn\n",
    "        self.Customer_name=name\n",
    "\n",
    "    # defines what is printed\n",
    "    def __str__(self):\n",
    "        return f\"{self.Room_number} {self.Customer_name}\"\n",
    "    \n",
    "    def isEmpty(self):\n",
    "        return (self.Customer_name=='')\n",
    "    \n",
    "    def Check_in(self, name):\n",
    "        if(self.isEmpty()):\n",
    "            self.Customer_name=name\n",
    "            return True\n",
    "        \n",
    "        return False\n",
    "    \n",
    "    def Check_out(self):\n",
    "        self.Customer_name=''\n",
    "        return True"
   ]
  },
  {
   "cell_type": "code",
   "execution_count": 27,
   "metadata": {},
   "outputs": [],
   "source": [
    "class Rooms:\n",
    "    # initialise the list\n",
    "    def __init__(self, n:int=0):\n",
    "        # allot first room\n",
    "        self.room_info=[]\n",
    "        # allot n rooms with no customer\n",
    "        for i in range(1, n+1):\n",
    "            self.room_info.append(Room(i))\n",
    "\n",
    "    def Display_info(self):\n",
    "        isEmpty=True\n",
    "        # print allocated rooms\n",
    "        for i in self.room_info:\n",
    "            if not i.isEmpty():\n",
    "                print(i)\n",
    "                isEmpty=False\n",
    "\n",
    "        if isEmpty:\n",
    "            print(\"No rooms are currently allocated\")\n",
    "    \n",
    "    def __str__(self):\n",
    "        # print each room\n",
    "        for i in self.room_info:\n",
    "            print(i)\n",
    "\n",
    "    def Check_in(self, name:str):\n",
    "        # searching and alloting an empty room\n",
    "        for i in self.room_info:\n",
    "            if i.isEmpty():\n",
    "                i.Check_in(name)\n",
    "                print(\"Alloted Room Number:\", i)\n",
    "                return\n",
    "        \n",
    "        # no room is empty\n",
    "        print(\"No rooms are available for Check in\")\n",
    "\n",
    "    def Check_out(self, rn:int):\n",
    "        return self.room_info[rn-1].Check_out()\n"
   ]
  },
  {
   "cell_type": "markdown",
   "metadata": {},
   "source": [
    "### implementing"
   ]
  },
  {
   "cell_type": "code",
   "execution_count": 28,
   "metadata": {},
   "outputs": [
    {
     "name": "stdout",
     "output_type": "stream",
     "text": [
      "After John checks in:\n",
      "Checking in ........\n",
      "Alloted Room Number: 1 John\n",
      "1 John\n",
      "\n",
      "========\n",
      "\n",
      "After Joseph checks in:\n",
      "Checking in ........\n",
      "Alloted Room Number: 2 Joseph\n",
      "1 John\n",
      "2 Joseph\n",
      "\n",
      "========\n",
      "\n",
      "After John checks out:\n",
      "Checking out ........\n",
      "2 Joseph\n",
      "\n",
      "========\n",
      "\n",
      "After Joseph checks out:\n",
      "Checking out ........\n",
      "No rooms are currently allocated\n"
     ]
    }
   ],
   "source": [
    "hotel=Rooms(25)\n",
    "\n",
    "print(\"After John checks in:\")\n",
    "print(\"Checking in ........\")\n",
    "hotel.Check_in('John')\n",
    "hotel.Display_info()\n",
    "\n",
    "print(\"\\n========\\n\")\n",
    "\n",
    "print(\"After Joseph checks in:\")\n",
    "print(\"Checking in ........\")\n",
    "hotel.Check_in('Joseph')\n",
    "hotel.Display_info()\n",
    "\n",
    "print(\"\\n========\\n\")\n",
    "\n",
    "print(\"After John checks out:\")\n",
    "print(\"Checking out ........\")\n",
    "hotel.Check_out(1)\n",
    "hotel.Display_info()\n",
    "\n",
    "print(\"\\n========\\n\")\n",
    "\n",
    "print(\"After Joseph checks out:\")\n",
    "print(\"Checking out ........\")\n",
    "hotel.Check_out(2)\n",
    "hotel.Display_info()"
   ]
  }
 ],
 "metadata": {
  "kernelspec": {
   "display_name": "Python 3",
   "language": "python",
   "name": "python3"
  },
  "language_info": {
   "codemirror_mode": {
    "name": "ipython",
    "version": 3
   },
   "file_extension": ".py",
   "mimetype": "text/x-python",
   "name": "python",
   "nbconvert_exporter": "python",
   "pygments_lexer": "ipython3",
   "version": "3.12.2"
  }
 },
 "nbformat": 4,
 "nbformat_minor": 2
}
