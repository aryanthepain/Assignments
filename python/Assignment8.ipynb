{
 "cells": [
  {
   "cell_type": "markdown",
   "metadata": {},
   "source": [
    "# Assignment 8 DA213\n",
    "\n",
    "- Name- Aryan Gupta\n",
    "- Roll- 230150003\n",
    "- Date- 18/03/25"
   ]
  },
  {
   "cell_type": "markdown",
   "metadata": {},
   "source": [
    "## Task 1"
   ]
  },
  {
   "cell_type": "markdown",
   "metadata": {},
   "source": [
    "### Importing libraries"
   ]
  },
  {
   "cell_type": "code",
   "execution_count": 22,
   "metadata": {},
   "outputs": [],
   "source": [
    "import tkinter as tk\n",
    "from tkinter import Toplevel\n",
    "import os"
   ]
  },
  {
   "cell_type": "markdown",
   "metadata": {},
   "source": [
    "### Creating App class"
   ]
  },
  {
   "cell_type": "code",
   "execution_count": 23,
   "metadata": {},
   "outputs": [],
   "source": [
    "class App(tk.Frame):\n",
    "    def __init__(self, master=None):\n",
    "        super().__init__(master)\n",
    "        self.path=\"data.txt\"\n",
    "        App.staff_data = {}\n",
    "        App.user_data = {}\n",
    "        if not os.path.exists(self.path):\n",
    "            open(\"data.txt\",\"x\")\n",
    "        else:\n",
    "            self.check_file()\n",
    "        self.pack(expand=True, fill=\"both\")\n",
    "        self.create_login_widgets()\n",
    "        \n",
    "    def check_file(self):\n",
    "        if not os.path.exists(self.path):\n",
    "            open(self.path, \"x\")\n",
    "\n",
    "        with open(self.path, \"r\") as f:\n",
    "            lines = f.readlines()\n",
    "\n",
    "        i = 0\n",
    "        while i < len(lines):\n",
    "            line = lines[i].strip()\n",
    "            if line == \"1\":  # Staff entry\n",
    "                username = lines[i + 1].strip()\n",
    "                pwd = lines[i + 2].strip()\n",
    "                App.staff_data[username] = pwd\n",
    "                i += 3\n",
    "            elif line == \"2\":  # User entry\n",
    "                username = lines[i + 1].strip()\n",
    "                pwd = lines[i + 2].strip()\n",
    "                App.user_data[username] = pwd\n",
    "                i += 3\n",
    "            else: # unexpected entry\n",
    "                i += 1\n",
    "\n",
    "                \n",
    "    def write_file(self):\n",
    "        with open(self.path, \"w\") as f:\n",
    "            # all staff data\n",
    "            for username, pwd in App.staff_data.items():\n",
    "                f.write(\"1\\n\")  \n",
    "                f.write(username + \"\\n\")\n",
    "                f.write(pwd + \"\\n\")\n",
    "\n",
    "            # all user data\n",
    "            for username, pwd in App.user_data.items():\n",
    "                f.write(\"2\\n\")  \n",
    "                f.write(username + \"\\n\")\n",
    "                f.write(pwd + \"\\n\")\n",
    "\n",
    "\n",
    "    # login page\n",
    "    def create_login_widgets(self):\n",
    "        # Role as Management/User\n",
    "        self.operation = tk.IntVar()\n",
    "        tk.Label(self, text=\"Select Role:\").place(x=50, y=10)\n",
    "        tk.Radiobutton(self, text='Staff', variable=self.operation, value=1).place(x=150, y=10)\n",
    "        tk.Radiobutton(self, text='User', variable=self.operation, value=2).place(x=250, y=10)\n",
    "\n",
    "        # Operand 1 label and entry (login ID)\n",
    "        self.operand1_label = tk.Label(self, text=\"Login ID : \")\n",
    "        self.operand1_label.place(x=50, y=50)\n",
    "    \n",
    "        self.operand1_entry = tk.Entry(self, width=30)\n",
    "        self.operand1_entry.place(x=150, y=50)\n",
    "\n",
    "        # Operand 2 label and entry (password)\n",
    "        self.operand2_label = tk.Label(self, text=\"Password : \")\n",
    "        self.operand2_label.place(x=50, y=100)\n",
    "    \n",
    "        self.operand2_entry = tk.Entry(self, width=30)\n",
    "        self.operand2_entry.place(x=150, y=100)\n",
    "\n",
    "        # Result label\n",
    "        self.Result_label = tk.Label(self, text=\"Login and register functions are included in one screen only (as instructed by ma'am)\")\n",
    "        self.Result_label.place(x=100, y=150)\n",
    "\n",
    "        # Login button\n",
    "        self.process_button = tk.Button(self, text=\"Login\", command=self.login)\n",
    "        self.process_button.place(x=125, y=200)\n",
    "\n",
    "        # Register button\n",
    "        self.register_button = tk.Button(self, text=\"Register\", command=self.register)\n",
    "        self.register_button.place(x=225, y=200)\n",
    "\n",
    "        # Quit button\n",
    "        self.quit_button = tk.Button(self, text=\"Quit\", command=self.quit)\n",
    "        self.quit_button.place(x=175, y=250)\n",
    "\n",
    "    # login process\n",
    "    def login(self):\n",
    "        username = (self.operand1_entry.get())\n",
    "        pwd = (self.operand2_entry.get())\n",
    "        operation = self.operation.get()\n",
    "        \n",
    "        result = \"\"\n",
    "        found = False\n",
    "        \n",
    "        print(\"From authentication\", username, pwd, str(operation))\n",
    "        # checking if staff or user\n",
    "        if operation == 1:\n",
    "            data = App.staff_data\n",
    "        else:\n",
    "            data = App.user_data\n",
    "        \n",
    "        # checking for login ID\n",
    "        if username in data.keys():\n",
    "            if pwd==data[username]: # checking for password\n",
    "                found= True\n",
    "                result = \"User \" + username + \" found\"\n",
    "        \n",
    "        # no match\n",
    "        if not found:\n",
    "            result = \"User \" + username + \" not found\"\n",
    "        \n",
    "        print(result)\n",
    "        self.Result_label.configure(text=result)\n",
    "\n",
    "    # register process\n",
    "    def register(self):\n",
    "        username = (self.operand1_entry.get())\n",
    "        pwd = (self.operand2_entry.get())\n",
    "        operation = self.operation.get()\n",
    "        \n",
    "        result = \"\"\n",
    "        \n",
    "        print(\"From registration\", username, pwd, str(operation))\n",
    "        # checking if user exists already\n",
    "        if username in App.user_data.keys() or username in App.staff_data.keys():\n",
    "            result = \"New User \" + username + \" already exists\"\n",
    "            \n",
    "        else:\n",
    "            if operation == 1:\n",
    "                App.staff_data.update({username:pwd})\n",
    "            else:\n",
    "                App.user_data.update({username:pwd})\n",
    "            result = \"New User \" + username + \" successfully registered\"\n",
    "        \n",
    "        print(result)\n",
    "        self.Result_label.configure(text=result)\n",
    "        \n",
    "    # quit process\n",
    "    def quit(self):\n",
    "        self.write_file()\n",
    "        self.master.destroy()"
   ]
  },
  {
   "cell_type": "markdown",
   "metadata": {},
   "source": [
    "### Create and run the main application"
   ]
  },
  {
   "cell_type": "code",
   "execution_count": 24,
   "metadata": {},
   "outputs": [
    {
     "name": "stdout",
     "output_type": "stream",
     "text": [
      "From authentication bipul 123 1\n",
      "User bipul not found\n",
      "From registration bipul 123 1\n",
      "New User bipul successfully registered\n",
      "From authentication bipul 123 1\n",
      "User bipul found\n"
     ]
    }
   ],
   "source": [
    "myapp = App()\n",
    "myapp.master.title(\"Login and Register Window\")\n",
    "myapp.master.geometry(\"600x300\")  # Adjusted to fit both fields better\n",
    "myapp.mainloop()"
   ]
  }
 ],
 "metadata": {
  "kernelspec": {
   "display_name": "base",
   "language": "python",
   "name": "python3"
  },
  "language_info": {
   "codemirror_mode": {
    "name": "ipython",
    "version": 3
   },
   "file_extension": ".py",
   "mimetype": "text/x-python",
   "name": "python",
   "nbconvert_exporter": "python",
   "pygments_lexer": "ipython3",
   "version": "3.12.4"
  }
 },
 "nbformat": 4,
 "nbformat_minor": 2
}
