{
  "cells": [
    {
      "cell_type": "markdown",
      "metadata": {},
      "source": [
        "# Numpy\n",
        "\n",
        "### Import the NumPy library with alias np\n"
      ]
    },
    {
      "cell_type": "code",
      "execution_count": 1,
      "metadata": {},
      "outputs": [],
      "source": [
        "import numpy as np"
      ]
    },
    {
      "cell_type": "code",
      "execution_count": 4,
      "metadata": {},
      "outputs": [],
      "source": [
        "# Create a 1-dimensional NumPy array using np.array()\n",
        "array_1d = np.array([1, 2, 3, 4, 5])\n",
        "\n",
        "\n",
        "\n",
        "# Create a 2-dimensional NumPy array using np.array()\n",
        "array_2d = np.array(\n",
        "    [[1, 2, 3, 4, 5],\n",
        "    [1, 2, 3, 4, 5],\n",
        "    [1, 2, 3, 4, 5]]\n",
        "    )\n",
        "\n",
        "\n",
        "\n",
        "\n",
        "# Create a 3-dimensional Numpy array using np.array()\n",
        "array_3d = np.array(\n",
        "    [[[1, 2],[ 3, 4]],\n",
        "    [[1, 2],[ 4, 5]],\n",
        "    [[1, 2],[ 4, 5]]]\n",
        "    )\n",
        "\n",
        "\n"
      ]
    },
    {
      "cell_type": "markdown",
      "metadata": {},
      "source": [
        "Find the shape, number of dimensions, data type, size and type of each array created above."
      ]
    },
    {
      "cell_type": "code",
      "execution_count": 6,
      "metadata": {},
      "outputs": [
        {
          "name": "stdout",
          "output_type": "stream",
          "text": [
            "Shape: (5,)\n",
            "Number of dimensions: 1\n",
            "Data type: int32\n",
            "Size: 5\n",
            "Type: <class 'numpy.ndarray'>\n"
          ]
        }
      ],
      "source": [
        "# Attributes of 1-dimensional array\n",
        "print(\"Shape:\", array_1d.shape)\n",
        "print(\"Number of dimensions:\", array_1d.ndim)\n",
        "print(\"Data type:\", array_1d.dtype)\n",
        "print(\"Size:\", array_1d.size)\n",
        "print(\"Type:\", type(array_1d))"
      ]
    },
    {
      "cell_type": "code",
      "execution_count": 7,
      "metadata": {},
      "outputs": [
        {
          "name": "stdout",
          "output_type": "stream",
          "text": [
            "\n",
            "2D Array:\n",
            "Shape: (3, 5)\n",
            "Number of dimensions: 2\n",
            "Data type: int32\n",
            "Size: 15\n",
            "Type: <class 'numpy.ndarray'>\n"
          ]
        }
      ],
      "source": [
        "# Attributes of 2-dimensional array\n",
        "print(\"\\n2D Array:\")\n",
        "print(\"Shape:\", array_2d.shape)\n",
        "print(\"Number of dimensions:\", array_2d.ndim)\n",
        "print(\"Data type:\", array_2d.dtype)\n",
        "print(\"Size:\", array_2d.size)\n",
        "print(\"Type:\", type(array_2d))"
      ]
    },
    {
      "cell_type": "code",
      "execution_count": 8,
      "metadata": {},
      "outputs": [
        {
          "name": "stdout",
          "output_type": "stream",
          "text": [
            "\n",
            "3D Array:\n",
            "Shape: (3, 2, 2)\n",
            "Number of dimensions: 3\n",
            "Data type: int32\n",
            "Size: 12\n",
            "Type: <class 'numpy.ndarray'>\n"
          ]
        }
      ],
      "source": [
        "# Attributes of 3-dimensional array\n",
        "print(\"\\n3D Array:\")\n",
        "print(\"Shape:\", array_3d.shape)\n",
        "print(\"Number of dimensions:\", array_3d.ndim)\n",
        "print(\"Data type:\", array_3d.dtype)\n",
        "print(\"Size:\", array_3d.size)\n",
        "print(\"Type:\", type(array_3d))\n",
        "\n"
      ]
    },
    {
      "cell_type": "code",
      "execution_count": 9,
      "metadata": {},
      "outputs": [
        {
          "data": {
            "text/plain": [
              "array([[1., 1.],\n",
              "       [1., 1.],\n",
              "       [1., 1.],\n",
              "       [1., 1.],\n",
              "       [1., 1.],\n",
              "       [1., 1.],\n",
              "       [1., 1.],\n",
              "       [1., 1.],\n",
              "       [1., 1.],\n",
              "       [1., 1.]])"
            ]
          },
          "execution_count": 9,
          "metadata": {},
          "output_type": "execute_result"
        }
      ],
      "source": [
        "# Create an array of shape (10, 2) with only ones\n",
        "np.ones((10,2))\n"
      ]
    },
    {
      "cell_type": "code",
      "execution_count": 10,
      "metadata": {},
      "outputs": [
        {
          "data": {
            "text/plain": [
              "array([[[0., 0., 0.],\n",
              "        [0., 0., 0.]],\n",
              "\n",
              "       [[0., 0., 0.],\n",
              "        [0., 0., 0.]],\n",
              "\n",
              "       [[0., 0., 0.],\n",
              "        [0., 0., 0.]],\n",
              "\n",
              "       [[0., 0., 0.],\n",
              "        [0., 0., 0.]],\n",
              "\n",
              "       [[0., 0., 0.],\n",
              "        [0., 0., 0.]],\n",
              "\n",
              "       [[0., 0., 0.],\n",
              "        [0., 0., 0.]],\n",
              "\n",
              "       [[0., 0., 0.],\n",
              "        [0., 0., 0.]]])"
            ]
          },
          "execution_count": 10,
          "metadata": {},
          "output_type": "execute_result"
        }
      ],
      "source": [
        "# Create an array of shape (7, 2, 3) of only zeros\n",
        "np.zeros((7,2,3))\n"
      ]
    },
    {
      "cell_type": "code",
      "execution_count": 11,
      "metadata": {},
      "outputs": [
        {
          "data": {
            "text/plain": [
              "array([[[5., 5., 5.],\n",
              "        [5., 5., 5.]],\n",
              "\n",
              "       [[5., 5., 5.],\n",
              "        [5., 5., 5.]],\n",
              "\n",
              "       [[5., 5., 5.],\n",
              "        [5., 5., 5.]],\n",
              "\n",
              "       [[5., 5., 5.],\n",
              "        [5., 5., 5.]],\n",
              "\n",
              "       [[5., 5., 5.],\n",
              "        [5., 5., 5.]],\n",
              "\n",
              "       [[5., 5., 5.],\n",
              "        [5., 5., 5.]],\n",
              "\n",
              "       [[5., 5., 5.],\n",
              "        [5., 5., 5.]]])"
            ]
          },
          "execution_count": 11,
          "metadata": {},
          "output_type": "execute_result"
        }
      ],
      "source": [
        "# Create an array of shape (7, 2, 3) of only fives\n",
        "np.ones((7,2,3))*5\n"
      ]
    },
    {
      "cell_type": "code",
      "execution_count": 14,
      "metadata": {},
      "outputs": [
        {
          "data": {
            "text/plain": [
              "array([ 0,  4,  8, 12, 16, 20, 24, 28, 32, 36, 40, 44, 48, 52, 56, 60, 64,\n",
              "       68, 72, 76, 80, 84, 88, 92, 96])"
            ]
          },
          "execution_count": 14,
          "metadata": {},
          "output_type": "execute_result"
        }
      ],
      "source": [
        "# Create an array within a range of 0 and 100 with step size 4\n",
        "np.arange(0, 100, 4)\n",
        "\n"
      ]
    },
    {
      "cell_type": "code",
      "execution_count": 17,
      "metadata": {},
      "outputs": [
        {
          "data": {
            "text/plain": [
              "array([[0, 3],\n",
              "       [5, 8],\n",
              "       [8, 2],\n",
              "       [2, 4],\n",
              "       [8, 2],\n",
              "       [0, 1]])"
            ]
          },
          "execution_count": 17,
          "metadata": {},
          "output_type": "execute_result"
        }
      ],
      "source": [
        "# Create a random array with numbers between 0 and 10 of size (6, 2)\n",
        "np.random.randint(0, 10, size=(6, 2))\n"
      ]
    },
    {
      "cell_type": "code",
      "execution_count": 22,
      "metadata": {},
      "outputs": [
        {
          "data": {
            "text/plain": [
              "array([[0.38798829, 0.60251089, 0.49770469, 0.24863486, 0.33362218],\n",
              "       [0.10442422, 0.74577657, 0.32299366, 0.78782234, 0.45659254],\n",
              "       [0.16177744, 0.36879618, 0.60274755, 0.37085958, 0.06867576],\n",
              "       [0.08189956, 0.64199931, 0.20140888, 0.24226116, 0.46301169]])"
            ]
          },
          "execution_count": 22,
          "metadata": {},
          "output_type": "execute_result"
        }
      ],
      "source": [
        "# Create a random array of floats between 0 & 1 of shape (4, 5)\n",
        "np.random.rand(4, 5)"
      ]
    },
    {
      "cell_type": "code",
      "execution_count": 26,
      "metadata": {},
      "outputs": [
        {
          "data": {
            "text/plain": [
              "array([[6, 3, 7, 4, 6, 9],\n",
              "       [2, 6, 7, 4, 3, 7],\n",
              "       [7, 2, 5, 4, 1, 7],\n",
              "       [5, 1, 4, 0, 9, 5]])"
            ]
          },
          "execution_count": 26,
          "metadata": {},
          "output_type": "execute_result"
        }
      ],
      "source": [
        "# Set the random seed to 42\n",
        "np.random.seed(42)\n",
        "\n",
        "# Create a random array of numbers between 0 & 10 of size (4, 6)\n",
        "np.random.randint(0,10,(4,6))\n"
      ]
    },
    {
      "cell_type": "code",
      "execution_count": 29,
      "metadata": {},
      "outputs": [
        {
          "name": "stdout",
          "output_type": "stream",
          "text": [
            "[[4 1 3 6 7 2 0]\n",
            " [3 1 7 3 1 5 5]\n",
            " [9 3 5 1 9 1 9]]\n"
          ]
        },
        {
          "data": {
            "text/plain": [
              "array([0, 1, 2, 3, 4, 5, 6, 7, 9])"
            ]
          },
          "execution_count": 29,
          "metadata": {},
          "output_type": "execute_result"
        }
      ],
      "source": [
        "# Create an array of random numbers between 1 & 10 of size (3, 7)\n",
        "# and save it to a variable\n",
        "array=np.random.randint(0,10,(3,7))\n",
        "print(array)\n",
        "\n",
        "# Find the unique numbers in the array you just created\n",
        "np.unique(array)\n",
        "\n"
      ]
    },
    {
      "cell_type": "code",
      "execution_count": 28,
      "metadata": {},
      "outputs": [
        {
          "data": {
            "text/plain": [
              "8"
            ]
          },
          "execution_count": 28,
          "metadata": {},
          "output_type": "execute_result"
        }
      ],
      "source": [
        "# Find the 0'th index of the latest array you created\n",
        "array[0][0]\n"
      ]
    },
    {
      "cell_type": "code",
      "execution_count": 31,
      "metadata": {},
      "outputs": [
        {
          "data": {
            "text/plain": [
              "array([[4, 1, 3, 6, 7, 2, 0],\n",
              "       [3, 1, 7, 3, 1, 5, 5]])"
            ]
          },
          "execution_count": 31,
          "metadata": {},
          "output_type": "execute_result"
        }
      ],
      "source": [
        "# Get the first 2 rows of latest array you created\n",
        "array[0:2]\n"
      ]
    },
    {
      "cell_type": "code",
      "execution_count": 47,
      "metadata": {},
      "outputs": [
        {
          "data": {
            "text/plain": [
              "array([[4, 1],\n",
              "       [3, 1]])"
            ]
          },
          "execution_count": 47,
          "metadata": {},
          "output_type": "execute_result"
        }
      ],
      "source": [
        "# Get the first 2 values of the first 2 rows of the latest array\n",
        "array[:2, :2]\n",
        "\n"
      ]
    },
    {
      "cell_type": "markdown",
      "metadata": {},
      "source": [
        "# Visualization\n",
        "\n",
        "### Import the matplotlib library with alias plt"
      ]
    },
    {
      "cell_type": "code",
      "execution_count": 48,
      "metadata": {},
      "outputs": [],
      "source": [
        "import matplotlib.pyplot as plt"
      ]
    },
    {
      "cell_type": "markdown",
      "metadata": {},
      "source": [
        "y=[3, 10, 40, 500, 65, 53, 19, 90, 80, 34]\n",
        "\n",
        "x=np.arange(10)\n",
        "\n",
        "Using matplotlib, visualize the above data with  scatter plot, line plot, histogram and box plot"
      ]
    },
    {
      "cell_type": "code",
      "execution_count": 60,
      "metadata": {},
      "outputs": [
        {
          "data": {
            "image/png": "[encoded data removed]",
            "text/plain": [
              "<Figure size 640x480 with 4 Axes>"
            ]
          },
          "metadata": {},
          "output_type": "display_data"
        }
      ],
      "source": [
        "y=[3, 10, 40, 500, 65, 53, 19, 90, 80, 34]\n",
        "x=np.arange(10)\n",
        "\n",
        "plt.figure()\n",
        "plt.subplot(2,2,1)\n",
        "plt.scatter(x,y)\n",
        "\n",
        "plt.subplot(2,2,2)\n",
        "plt.plot(x,y)\n",
        "\n",
        "plt.subplot(2,2,3)\n",
        "plt.bar(x,y)\n",
        "\n",
        "plt.subplot(2,2,4)\n",
        "plt.boxplot(y)\n",
        "\n",
        "plt.show()"
      ]
    },
    {
      "cell_type": "markdown",
      "metadata": {},
      "source": [
        "Create a NumPy array with random numbers following a uniform distribution between 0 and 100.\n",
        "\n",
        "Use matplotlib to visualize the generated data with  scatter plot, line plot, histogram and box plot."
      ]
    },
    {
      "cell_type": "code",
      "execution_count": 63,
      "metadata": {},
      "outputs": [
        {
          "data": {
            "image/png": "[encoded data removed]",
            "text/plain": [
              "<Figure size 640x480 with 4 Axes>"
            ]
          },
          "metadata": {},
          "output_type": "display_data"
        }
      ],
      "source": [
        "y=np.random.rand(10)*100\n",
        "x=np.arange(10)\n",
        "\n",
        "plt.figure()\n",
        "plt.subplot(2,2,1)\n",
        "plt.scatter(x,y)\n",
        "\n",
        "plt.subplot(2,2,2)\n",
        "plt.plot(x,y)\n",
        "\n",
        "plt.subplot(2,2,3)\n",
        "plt.bar(x,y)\n",
        "\n",
        "plt.subplot(2,2,4)\n",
        "plt.boxplot(y)\n",
        "\n",
        "plt.show()"
      ]
    },
    {
      "cell_type": "markdown",
      "metadata": {},
      "source": [
        "### END"
      ]
    }
  ],
  "metadata": {
    "kernelspec": {
      "display_name": "Python 3",
      "language": "python",
      "name": "python3"
    },
    "language_info": {
      "codemirror_mode": {
        "name": "ipython",
        "version": 3
      },
      "file_extension": ".py",
      "mimetype": "text/x-python",
      "name": "python",
      "nbconvert_exporter": "python",
      "pygments_lexer": "ipython3",
      "version": "3.12.3"
    },
    "nteract": {
      "version": "nteract-front-end@1.0.0"
    },
    "vscode": {
      "interpreter": {
        "hash": "916dbcbb3f70747c44a77c7bcd40155683ae19c65e1c03b4aa3499c5328201f1"
      }
    }
  },
  "nbformat": 4,
  "nbformat_minor": 2
}
