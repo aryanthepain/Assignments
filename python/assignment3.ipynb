{
 "cells": [
  {
   "cell_type": "markdown",
   "metadata": {},
   "source": [
    "# Assignment 3 - DA213\n",
    "\n",
    "- Name- Aryan Gupta\n",
    "- Roll- 230150003\n",
    "- Date- 04/02/25\n",
    "- Time- 14:25 IST"
   ]
  },
  {
   "cell_type": "markdown",
   "metadata": {},
   "source": [
    "# Q1\n",
    "Let us divide the question into sub parts"
   ]
  },
  {
   "cell_type": "markdown",
   "metadata": {},
   "source": [
    "### Part 1- Taking and manipulating input"
   ]
  },
  {
   "cell_type": "code",
   "execution_count": 54,
   "metadata": {},
   "outputs": [
    {
     "name": "stdout",
     "output_type": "stream",
     "text": [
      "Words in order:  ['the', 'cat', 'jumped', 'onto', 'the', 'windowsill', 'and', 'looked', 'outside', 'it', 'watched', 'the', 'birds', 'flying', 'by', 'and', 'listened', 'to', 'the', 'sounds', 'of', 'the', 'city', 'after', 'a', 'while', 'the', 'cat', 'lay', 'down', 'and', 'fell', 'asleep', 'in', 'the', 'warm', 'sunlight']\n"
     ]
    }
   ],
   "source": [
    "# defining functions\n",
    "def isLower(x):\n",
    "    a=ord('a')\n",
    "    z=ord('z')\n",
    "    x=ord(x)\n",
    "    \n",
    "    if(x>=a and x<=z):\n",
    "        return True\n",
    "    return False\n",
    "\n",
    "def isUpper(x):\n",
    "    a=ord('A')\n",
    "    z=ord('Z')\n",
    "    x=ord(x)\n",
    "    \n",
    "    if(x>=a and x<=z):\n",
    "        return True\n",
    "    return False\n",
    "\n",
    "# generalize the string\n",
    "def manipulate(string):\n",
    "    output=''\n",
    "    for i in string:\n",
    "        # converting to lower case\n",
    "        if(isUpper(i)):\n",
    "            i=chr(ord(i)+32)\n",
    "        \n",
    "        if(isLower(i)):\n",
    "            output=output+i \n",
    "            continue\n",
    "            \n",
    "        # removing punctuations\n",
    "        output=output+' '\n",
    "    \n",
    "    return output\n",
    "\n",
    "# taking and manipulating input\n",
    "test= \"The cat jumped onto the windowsill and looked outside. It watched the birds flying by and listened to the sounds of the city. After a while, the cat lay down and fell asleep in the warm sunlight.\"\n",
    "manipulated_test=manipulate(test)\n",
    "test_words= manipulated_test.split()\n",
    "print(\"Words in order: \", test_words)"
   ]
  },
  {
   "cell_type": "markdown",
   "metadata": {},
   "source": [
    "### Part 2- Creating prediction dictionary"
   ]
  },
  {
   "cell_type": "code",
   "execution_count": 55,
   "metadata": {},
   "outputs": [
    {
     "name": "stdout",
     "output_type": "stream",
     "text": [
      "Prediction Dictionary:  {'the': {'cat': 2, 'windowsill': 1, 'birds': 1, 'sounds': 1, 'city': 1, 'warm': 1}, 'cat': {'jumped': 1, 'lay': 1}, 'jumped': {'onto': 1}, 'onto': {'the': 1}, 'windowsill': {'and': 1}, 'and': {'looked': 1, 'listened': 1, 'fell': 1}, 'looked': {'outside': 1}, 'outside': {'it': 1}, 'it': {'watched': 1}, 'watched': {'the': 1}, 'birds': {'flying': 1}, 'flying': {'by': 1}, 'by': {'and': 1}, 'listened': {'to': 1}, 'to': {'the': 1}, 'sounds': {'of': 1}, 'of': {'the': 1}, 'city': {'after': 1}, 'after': {'a': 1}, 'a': {'while': 1}, 'while': {'the': 1}, 'lay': {'down': 1}, 'down': {'and': 1}, 'fell': {'asleep': 1}, 'asleep': {'in': 1}, 'in': {'the': 1}, 'warm': {'sunlight': 1}}\n"
     ]
    }
   ],
   "source": [
    "# creating dictionary\n",
    "prediction_dictionary={}\n",
    "\n",
    "# creating loop to create a prediction dictionary\n",
    "# running loop till last second word\n",
    "for i in range(len(test_words)-1):\n",
    "    # getting current word's dictionary\n",
    "    curr_dictionary=prediction_dictionary.get(test_words[i])\n",
    "    \n",
    "    # creating dictionary if first occurence of current word\n",
    "    if(not curr_dictionary):\n",
    "        curr_dictionary={test_words[i+1]:0}\n",
    "        \n",
    "    next_word_count=curr_dictionary.get(test_words[i+1]) #returns \"None\" of first occurence\n",
    "    # creating dictionary if first occurence of current-next word pair\n",
    "    if(not next_word_count):\n",
    "        next_word_count=0\n",
    "        \n",
    "    curr_dictionary.update({test_words[i+1]:next_word_count+1})\n",
    "    prediction_dictionary.update({test_words[i]:curr_dictionary})\n",
    "\n",
    "print(\"Prediction Dictionary: \" , prediction_dictionary)"
   ]
  },
  {
   "cell_type": "markdown",
   "metadata": {},
   "source": [
    "### Part 3- Making Predictions"
   ]
  },
  {
   "cell_type": "code",
   "execution_count": 60,
   "metadata": {},
   "outputs": [],
   "source": [
    "def getNextWord(curr_dictionary):\n",
    "    items=list(curr_dictionary.items())\n",
    "    \n",
    "    max_index=0\n",
    "    max_count=items[0][1]\n",
    "    for i in range(len(items)):\n",
    "        if(max_count<items[i][1]):\n",
    "            max_count=items[i][1]\n",
    "            max_index=i\n",
    "    \n",
    "    return items[max_index][0]"
   ]
  },
  {
   "cell_type": "code",
   "execution_count": 61,
   "metadata": {},
   "outputs": [
    {
     "name": "stdout",
     "output_type": "stream",
     "text": [
      "Prediction: the cat jumped onto the cat "
     ]
    }
   ],
   "source": [
    "first_word=\"the\"\n",
    "first_word=manipulate(first_word)\n",
    "\n",
    "sentence=[first_word]\n",
    "\n",
    "# create prediction list\n",
    "for i in range(5):\n",
    "    curr_dictionary=prediction_dictionary.get(sentence[i])\n",
    "    sentence.append(getNextWord(curr_dictionary))\n",
    "    \n",
    "# output results\n",
    "print(\"Prediction:\", end=\" \")\n",
    "for i in sentence:\n",
    "    print(i, end=\" \")"
   ]
  },
  {
   "cell_type": "markdown",
   "metadata": {},
   "source": [
    "# Q2"
   ]
  },
  {
   "cell_type": "code",
   "execution_count": 88,
   "metadata": {},
   "outputs": [
    {
     "name": "stdout",
     "output_type": "stream",
     "text": [
      "First Sentence:  {'salaam', 'hi', 'namaste', 'hello'}\n",
      "Second Sentence:  {'aryan', 'hi', 'hello'}\n",
      "\n",
      "A UNION B:  {'aryan', 'hi', 'salaam', 'hello', 'namaste'}\n",
      "A INTERSECT B:  {'hi', 'hello'}\n",
      "\n",
      "Jaccard Value=  0.4\n"
     ]
    }
   ],
   "source": [
    "a=input(\"First Sentence?: \")\n",
    "b=input(\"Second Sentence?: \")\n",
    "\n",
    "# union function\n",
    "def union(first, second):\n",
    "    first=list(first)\n",
    "    second=list(second)    \n",
    "    union_set=set(first+second)\n",
    "    print(\"A UNION B: \", union_set)\n",
    "    \n",
    "    return union_set\n",
    "\n",
    "# intersect function\n",
    "def intersect(first, second):\n",
    "    first=list(first)\n",
    "    second=list(second)    \n",
    "    \n",
    "    # defining output set\n",
    "    intersect_set={}\n",
    "    for i in first:\n",
    "        if(i in second):\n",
    "            intersect_set.update({i:1})\n",
    "    \n",
    "    intersect_set=set(intersect_set.keys())\n",
    "    \n",
    "    print(\"A INTERSECT B: \", intersect_set)\n",
    "    \n",
    "    return intersect_set\n",
    "\n",
    "\n",
    "def jaccard(a, b):\n",
    "    # manipulating input\n",
    "    first=manipulate(a)\n",
    "    first=set(a.split())\n",
    "    print(\"First Sentence: \", first)\n",
    "    \n",
    "    second=manipulate(b)\n",
    "    second=set(b.split())\n",
    "    print(\"Second Sentence: \", second)\n",
    "    \n",
    "    print(\"\")\n",
    "    \n",
    "    # calling union and intersection\n",
    "    union_set=union(first,second)\n",
    "    intersect_set=intersect(first,second)\n",
    "    \n",
    "    print(\"\")\n",
    "    \n",
    "    # returning jaccard value\n",
    "    return len(intersect_set)/len(union_set)\n",
    "    \n",
    "print('Jaccard Value= ', jaccard(a,b))"
   ]
  },
  {
   "cell_type": "markdown",
   "metadata": {},
   "source": [
    "# Q3"
   ]
  },
  {
   "cell_type": "code",
   "execution_count": 94,
   "metadata": {},
   "outputs": [],
   "source": [
    "# defining input\n",
    "a=[2,4,6,8,10]\n",
    "b=[1,2,3,4,5]\n",
    "c=[10,9,8,7,6]\n",
    "d=[5,4,3,2,1]\n",
    "input_matrix=[a,b,c,d]\n",
    "\n",
    "# defining functions\n",
    "def mean(x):\n",
    "    n=len(x)\n",
    "    sum=0\n",
    "    for i in x:\n",
    "        sum=sum+i\n",
    "    \n",
    "    return sum/n\n",
    "\n",
    "def cov(x,y):\n",
    "    n=len(x)\n",
    "    x_mean=mean(x)    \n",
    "    y_mean=mean(y)\n",
    "    \n",
    "    sum=0\n",
    "    for i in range(n):\n",
    "        sum=sum+(x[i]-x_mean)*(y[i]-y_mean)\n",
    "        \n",
    "    return sum/(n-1)\n",
    "\n",
    "def corr(x,y):\n",
    "    n=len(x)\n",
    "    x_mean=mean(x)    \n",
    "    y_mean=mean(y)\n",
    "    \n",
    "    numerator=0\n",
    "    denom1=0\n",
    "    denom2=0\n",
    "    for i in range(n):\n",
    "        numerator=numerator+(x[i]-x_mean)*(y[i]-y_mean)\n",
    "        denom1=denom1+(x[i]-x_mean)**2\n",
    "        denom2=denom2+(y[i]-y_mean)**2\n",
    "    \n",
    "    denom1=denom1**0.5\n",
    "    denom2=denom2**0.5\n",
    "    \n",
    "    return numerator/(denom1*denom2)\n",
    "\n",
    "def calculate(x,y,func):\n",
    "    return func(x,y)"
   ]
  },
  {
   "cell_type": "code",
   "execution_count": 113,
   "metadata": {},
   "outputs": [
    {
     "name": "stdout",
     "output_type": "stream",
     "text": [
      "Covariance Matrix\n",
      "10.0, 5.0, -5.0, -5.0, \n",
      "5.0, 2.5, -2.5, -2.5, \n",
      "-5.0, -2.5, 2.5, 2.5, \n",
      "-5.0, -2.5, 2.5, 2.5, \n"
     ]
    }
   ],
   "source": [
    "print(\"Covariance Matrix\")\n",
    "for i in range(4):\n",
    "    for j in range(4):\n",
    "        print(calculate(input_matrix[i], input_matrix[j], cov), end=\", \")\n",
    "    print(\"\")"
   ]
  },
  {
   "cell_type": "code",
   "execution_count": 114,
   "metadata": {},
   "outputs": [
    {
     "name": "stdout",
     "output_type": "stream",
     "text": [
      "Correlation Matrix\n",
      "0.9999999999999998, 0.9999999999999998, -0.9999999999999998, -0.9999999999999998, \n",
      "0.9999999999999998, 0.9999999999999998, -0.9999999999999998, -0.9999999999999998, \n",
      "-0.9999999999999998, -0.9999999999999998, 0.9999999999999998, 0.9999999999999998, \n",
      "-0.9999999999999998, -0.9999999999999998, 0.9999999999999998, 0.9999999999999998, \n"
     ]
    }
   ],
   "source": [
    "print(\"Correlation Matrix\")\n",
    "for i in range(4):\n",
    "    for j in range(4):\n",
    "        print(calculate(input_matrix[i], input_matrix[j], corr), end=\", \")\n",
    "    print(\"\")"
   ]
  },
  {
   "cell_type": "markdown",
   "metadata": {},
   "source": [
    "# Q4"
   ]
  },
  {
   "cell_type": "code",
   "execution_count": 117,
   "metadata": {},
   "outputs": [],
   "source": [
    "def mod(x):\n",
    "    n=len(x)\n",
    "    \n",
    "    denom1=0\n",
    "    for i in range(n):\n",
    "        denom1=denom1+(x[i])**2\n",
    "    \n",
    "    return denom1**0.5\n",
    "        \n",
    "\n",
    "def cos(x,y):\n",
    "    n=len(x)\n",
    "    modx=mod(x)\n",
    "    mody=mod(y)\n",
    "    \n",
    "    sum=0\n",
    "    for i in range(n):\n",
    "        sum=sum+x[i]*y[i]\n",
    "        \n",
    "    return sum/(modx*mody)"
   ]
  },
  {
   "cell_type": "code",
   "execution_count": 119,
   "metadata": {},
   "outputs": [
    {
     "name": "stdout",
     "output_type": "stream",
     "text": [
      "Cosine Similarity Matrix\n",
      "1.0, 1.0, 0.816496580927726, 0.6363636363636364, \n",
      "1.0, 1.0, 0.816496580927726, 0.6363636363636364, \n",
      "0.816496580927726, 0.816496580927726, 1.0, 0.9649505047327671, \n",
      "0.6363636363636364, 0.6363636363636364, 0.9649505047327671, 1.0, \n"
     ]
    }
   ],
   "source": [
    "print(\"Cosine Similarity Matrix\")\n",
    "for i in range(4):\n",
    "    for j in range(4):\n",
    "        print(calculate(input_matrix[i], input_matrix[j], cos), end=\", \")\n",
    "    print(\"\")"
   ]
  },
  {
   "cell_type": "markdown",
   "metadata": {},
   "source": [
    "# Q5"
   ]
  },
  {
   "cell_type": "code",
   "execution_count": 127,
   "metadata": {},
   "outputs": [
    {
     "name": "stdout",
     "output_type": "stream",
     "text": [
      "Independent vectors:\n",
      "[2, 4, 6, 8, 10] [6, 12, 18, 22, 30]\n",
      "[4, 8, 12, 16, 20] [6, 12, 18, 22, 30]\n",
      "[6, 12, 18, 22, 30] [8, 16, 24, 32, 40]\n"
     ]
    }
   ],
   "source": [
    "a=[2,4,6,8,10]\n",
    "b=[4,8,12,16,20]\n",
    "c=[6,12,18,22,30]\n",
    "d=[8,16,24,32,40]\n",
    "input_matrix=[a,b,c,d]\n",
    "\n",
    "def isIndi(x,y):\n",
    "    first=x.copy()\n",
    "    second=y.copy()\n",
    "    \n",
    "    for i in range(len(x)):\n",
    "        first[i]=first[i]/x[0]\n",
    "        second[i]=second[i]/y[0]\n",
    "        \n",
    "    return not first==second\n",
    "\n",
    "print(\"Independent vectors:\")\n",
    "for i in range(len(input_matrix)):\n",
    "    for j in range(i,len(input_matrix)):\n",
    "        if(isIndi(input_matrix[i],input_matrix[j])):\n",
    "            print(input_matrix[i],input_matrix[j])"
   ]
  }
 ],
 "metadata": {
  "kernelspec": {
   "display_name": "Python 3",
   "language": "python",
   "name": "python3"
  },
  "language_info": {
   "codemirror_mode": {
    "name": "ipython",
    "version": 3
   },
   "file_extension": ".py",
   "mimetype": "text/x-python",
   "name": "python",
   "nbconvert_exporter": "python",
   "pygments_lexer": "ipython3",
   "version": "3.12.6"
  }
 },
 "nbformat": 4,
 "nbformat_minor": 2
}
