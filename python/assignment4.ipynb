{
 "cells": [
  {
   "cell_type": "markdown",
   "metadata": {},
   "source": [
    "# Assignment 4\n",
    "\n",
    "- Name- Aryan Gupta\n",
    "- Roll- 230150003\n",
    "- Date- 11/02/25\n",
    "- Time- 14:09"
   ]
  },
  {
   "cell_type": "markdown",
   "metadata": {},
   "source": [
    "### Importing libraries"
   ]
  },
  {
   "cell_type": "code",
   "execution_count": 2,
   "metadata": {},
   "outputs": [],
   "source": [
    "import pandas as pd\n",
    "import numpy as np\n",
    "import matplotlib.pyplot as plt\n",
    "import math"
   ]
  },
  {
   "cell_type": "markdown",
   "metadata": {},
   "source": [
    "## Task 1"
   ]
  },
  {
   "cell_type": "code",
   "execution_count": 3,
   "metadata": {},
   "outputs": [
    {
     "data": {
      "text/html": [
       "<div>\n",
       "<style scoped>\n",
       "    .dataframe tbody tr th:only-of-type {\n",
       "        vertical-align: middle;\n",
       "    }\n",
       "\n",
       "    .dataframe tbody tr th {\n",
       "        vertical-align: top;\n",
       "    }\n",
       "\n",
       "    .dataframe thead th {\n",
       "        text-align: right;\n",
       "    }\n",
       "</style>\n",
       "<table border=\"1\" class=\"dataframe\">\n",
       "  <thead>\n",
       "    <tr style=\"text-align: right;\">\n",
       "      <th></th>\n",
       "      <th>Sl.No</th>\n",
       "      <th>Dist_Taxi</th>\n",
       "      <th>Dist_Market</th>\n",
       "      <th>Dist_Metro</th>\n",
       "      <th>Store_Area</th>\n",
       "      <th>Items_Available</th>\n",
       "      <th>Parking</th>\n",
       "      <th>Coupon_Category</th>\n",
       "      <th>Daily_Customer_Count</th>\n",
       "      <th>Store_Sales</th>\n",
       "    </tr>\n",
       "  </thead>\n",
       "  <tbody>\n",
       "    <tr>\n",
       "      <th>0</th>\n",
       "      <td>1</td>\n",
       "      <td>8248.0</td>\n",
       "      <td>8464.0</td>\n",
       "      <td>11292.0</td>\n",
       "      <td>1260</td>\n",
       "      <td>1508</td>\n",
       "      <td>Open</td>\n",
       "      <td>CAT C</td>\n",
       "      <td>490</td>\n",
       "      <td>14920</td>\n",
       "    </tr>\n",
       "    <tr>\n",
       "      <th>1</th>\n",
       "      <td>2</td>\n",
       "      <td>10148.0</td>\n",
       "      <td>10679.0</td>\n",
       "      <td>11618.0</td>\n",
       "      <td>1573</td>\n",
       "      <td>1878</td>\n",
       "      <td>Not Provided</td>\n",
       "      <td>CAT C</td>\n",
       "      <td>650</td>\n",
       "      <td>23740</td>\n",
       "    </tr>\n",
       "    <tr>\n",
       "      <th>2</th>\n",
       "      <td>3</td>\n",
       "      <td>10870.0</td>\n",
       "      <td>12040.0</td>\n",
       "      <td>15221.0</td>\n",
       "      <td>1475</td>\n",
       "      <td>1777</td>\n",
       "      <td>Open</td>\n",
       "      <td>CAT C</td>\n",
       "      <td>800</td>\n",
       "      <td>25820</td>\n",
       "    </tr>\n",
       "    <tr>\n",
       "      <th>3</th>\n",
       "      <td>4</td>\n",
       "      <td>8868.0</td>\n",
       "      <td>12356.0</td>\n",
       "      <td>13209.0</td>\n",
       "      <td>1267</td>\n",
       "      <td>1520</td>\n",
       "      <td>Not Provided</td>\n",
       "      <td>CAT B</td>\n",
       "      <td>450</td>\n",
       "      <td>26770</td>\n",
       "    </tr>\n",
       "    <tr>\n",
       "      <th>4</th>\n",
       "      <td>5</td>\n",
       "      <td>7522.0</td>\n",
       "      <td>11974.0</td>\n",
       "      <td>11433.0</td>\n",
       "      <td>1712</td>\n",
       "      <td>2046</td>\n",
       "      <td>Not Provided</td>\n",
       "      <td>CAT C</td>\n",
       "      <td>460</td>\n",
       "      <td>31180</td>\n",
       "    </tr>\n",
       "  </tbody>\n",
       "</table>\n",
       "</div>"
      ],
      "text/plain": [
       "   Sl.No  Dist_Taxi  Dist_Market  Dist_Metro  Store_Area  Items_Available  \\\n",
       "0      1     8248.0       8464.0     11292.0        1260             1508   \n",
       "1      2    10148.0      10679.0     11618.0        1573             1878   \n",
       "2      3    10870.0      12040.0     15221.0        1475             1777   \n",
       "3      4     8868.0      12356.0     13209.0        1267             1520   \n",
       "4      5     7522.0      11974.0     11433.0        1712             2046   \n",
       "\n",
       "        Parking Coupon_Category  Daily_Customer_Count  Store_Sales  \n",
       "0          Open           CAT C                   490        14920  \n",
       "1  Not Provided           CAT C                   650        23740  \n",
       "2          Open           CAT C                   800        25820  \n",
       "3  Not Provided           CAT B                   450        26770  \n",
       "4  Not Provided           CAT C                   460        31180  "
      ]
     },
     "execution_count": 3,
     "metadata": {},
     "output_type": "execute_result"
    }
   ],
   "source": [
    "df = pd.read_csv(\"sales1.csv\")\n",
    "df.head()"
   ]
  },
  {
   "cell_type": "code",
   "execution_count": 4,
   "metadata": {},
   "outputs": [
    {
     "data": {
      "text/plain": [
       "Sl.No                     int64\n",
       "Dist_Taxi               float64\n",
       "Dist_Market             float64\n",
       "Dist_Metro              float64\n",
       "Store_Area                int64\n",
       "Items_Available           int64\n",
       "Parking                  object\n",
       "Coupon_Category          object\n",
       "Daily_Customer_Count      int64\n",
       "Store_Sales               int64\n",
       "dtype: object"
      ]
     },
     "execution_count": 4,
     "metadata": {},
     "output_type": "execute_result"
    }
   ],
   "source": [
    "df.dtypes"
   ]
  },
  {
   "cell_type": "code",
   "execution_count": 5,
   "metadata": {},
   "outputs": [
    {
     "name": "stdout",
     "output_type": "stream",
     "text": [
      "Column Name: Sl.No\n",
      "Index, Filled\n",
      "Series([], Name: Sl.No, dtype: float64)\n",
      "Column Name: Dist_Taxi\n",
      "Index, Filled\n",
      "62    8121.119266\n",
      "Name: Dist_Taxi, dtype: float64\n",
      "Column Name: Dist_Market\n",
      "Index, Filled\n",
      "52    10992.880734\n",
      "Name: Dist_Market, dtype: float64\n",
      "Column Name: Dist_Metro\n",
      "Index, Filled\n",
      "55    12872.25\n",
      "69    12872.25\n",
      "Name: Dist_Metro, dtype: float64\n",
      "Column Name: Store_Area\n",
      "Index, Filled\n",
      "Series([], Name: Store_Area, dtype: float64)\n",
      "Column Name: Items_Available\n",
      "Index, Filled\n",
      "Series([], Name: Items_Available, dtype: float64)\n",
      "Column Name: Daily_Customer_Count\n",
      "Index, Filled\n",
      "Series([], Name: Daily_Customer_Count, dtype: float64)\n",
      "Column Name: Store_Sales\n",
      "Index, Filled\n",
      "Series([], Name: Store_Sales, dtype: float64)\n",
      "Column Name: Parking\n",
      "Index, Filled\n",
      "49    Open\n",
      "Name: Parking, dtype: object\n",
      "Column Name: Coupon_Category\n",
      "Index, Filled\n",
      "106    CAT B\n",
      "Name: Coupon_Category, dtype: object\n"
     ]
    },
    {
     "name": "stderr",
     "output_type": "stream",
     "text": [
      "C:\\Users\\student\\AppData\\Local\\Temp\\ipykernel_10356\\3182875730.py:13: FutureWarning: Setting an item of incompatible dtype is deprecated and will raise an error in a future version of pandas. Value '55.5' has dtype incompatible with int64, please explicitly cast to a compatible dtype first.\n",
      "  df.loc[df[i].isnull(), i] = filled_val\n",
      "C:\\Users\\student\\AppData\\Local\\Temp\\ipykernel_10356\\3182875730.py:13: FutureWarning: Setting an item of incompatible dtype is deprecated and will raise an error in a future version of pandas. Value '2079.181818181818' has dtype incompatible with int64, please explicitly cast to a compatible dtype first.\n",
      "  df.loc[df[i].isnull(), i] = filled_val\n",
      "C:\\Users\\student\\AppData\\Local\\Temp\\ipykernel_10356\\3182875730.py:13: FutureWarning: Setting an item of incompatible dtype is deprecated and will raise an error in a future version of pandas. Value '1826.9363636363637' has dtype incompatible with int64, please explicitly cast to a compatible dtype first.\n",
      "  df.loc[df[i].isnull(), i] = filled_val\n",
      "C:\\Users\\student\\AppData\\Local\\Temp\\ipykernel_10356\\3182875730.py:13: FutureWarning: Setting an item of incompatible dtype is deprecated and will raise an error in a future version of pandas. Value '910.3181818181819' has dtype incompatible with int64, please explicitly cast to a compatible dtype first.\n",
      "  df.loc[df[i].isnull(), i] = filled_val\n",
      "C:\\Users\\student\\AppData\\Local\\Temp\\ipykernel_10356\\3182875730.py:13: FutureWarning: Setting an item of incompatible dtype is deprecated and will raise an error in a future version of pandas. Value '52434.36363636364' has dtype incompatible with int64, please explicitly cast to a compatible dtype first.\n",
      "  df.loc[df[i].isnull(), i] = filled_val\n"
     ]
    }
   ],
   "source": [
    "# numerical columns\n",
    "num_cols = df.select_dtypes(exclude='object').columns\n",
    "\n",
    "# categorical columns\n",
    "cat_cols = df.select_dtypes(include='object').columns\n",
    "\n",
    "# filling in values\n",
    "for i in num_cols:\n",
    "    null_columns= df[i].isnull()\n",
    "    filled_val=df[i].mean()\n",
    "    print(\"Column Name:\",i)\n",
    "\n",
    "    df.loc[df[i].isnull(), i] = filled_val\n",
    "    print(\"Index, Filled\")\n",
    "    print(df.loc[null_columns, i])\n",
    "\n",
    "for i in cat_cols:\n",
    "    null_columns= df[i].isnull()\n",
    "    filled_val=df[i].mode()[0]\n",
    "    print(\"Column Name:\",i)\n",
    "\n",
    "    df.loc[df[i].isnull(), i] = filled_val\n",
    "    print(\"Index, Filled\")\n",
    "    print(df.loc[null_columns, i])\n"
   ]
  },
  {
   "cell_type": "markdown",
   "metadata": {},
   "source": [
    "## Task 2"
   ]
  },
  {
   "cell_type": "code",
   "execution_count": 6,
   "metadata": {},
   "outputs": [],
   "source": [
    "df1= pd.read_csv('subject1_100.csv')\n",
    "df2= pd.read_csv('subject2_100.csv')"
   ]
  },
  {
   "cell_type": "code",
   "execution_count": 7,
   "metadata": {},
   "outputs": [
    {
     "data": {
      "text/html": [
       "<div>\n",
       "<style scoped>\n",
       "    .dataframe tbody tr th:only-of-type {\n",
       "        vertical-align: middle;\n",
       "    }\n",
       "\n",
       "    .dataframe tbody tr th {\n",
       "        vertical-align: top;\n",
       "    }\n",
       "\n",
       "    .dataframe thead th {\n",
       "        text-align: right;\n",
       "    }\n",
       "</style>\n",
       "<table border=\"1\" class=\"dataframe\">\n",
       "  <thead>\n",
       "    <tr style=\"text-align: right;\">\n",
       "      <th></th>\n",
       "      <th>A</th>\n",
       "      <th>B</th>\n",
       "    </tr>\n",
       "  </thead>\n",
       "  <tbody>\n",
       "    <tr>\n",
       "      <th>0</th>\n",
       "      <td>Student_81</td>\n",
       "      <td>50</td>\n",
       "    </tr>\n",
       "    <tr>\n",
       "      <th>1</th>\n",
       "      <td>Student_85</td>\n",
       "      <td>66</td>\n",
       "    </tr>\n",
       "    <tr>\n",
       "      <th>2</th>\n",
       "      <td>Student_34</td>\n",
       "      <td>53</td>\n",
       "    </tr>\n",
       "    <tr>\n",
       "      <th>3</th>\n",
       "      <td>Student_82</td>\n",
       "      <td>78</td>\n",
       "    </tr>\n",
       "    <tr>\n",
       "      <th>4</th>\n",
       "      <td>Student_94</td>\n",
       "      <td>53</td>\n",
       "    </tr>\n",
       "  </tbody>\n",
       "</table>\n",
       "</div>"
      ],
      "text/plain": [
       "            A   B\n",
       "0  Student_81  50\n",
       "1  Student_85  66\n",
       "2  Student_34  53\n",
       "3  Student_82  78\n",
       "4  Student_94  53"
      ]
     },
     "execution_count": 7,
     "metadata": {},
     "output_type": "execute_result"
    }
   ],
   "source": [
    "df1.head()"
   ]
  },
  {
   "cell_type": "code",
   "execution_count": 8,
   "metadata": {},
   "outputs": [
    {
     "data": {
      "text/html": [
       "<div>\n",
       "<style scoped>\n",
       "    .dataframe tbody tr th:only-of-type {\n",
       "        vertical-align: middle;\n",
       "    }\n",
       "\n",
       "    .dataframe tbody tr th {\n",
       "        vertical-align: top;\n",
       "    }\n",
       "\n",
       "    .dataframe thead th {\n",
       "        text-align: right;\n",
       "    }\n",
       "</style>\n",
       "<table border=\"1\" class=\"dataframe\">\n",
       "  <thead>\n",
       "    <tr style=\"text-align: right;\">\n",
       "      <th></th>\n",
       "      <th>A</th>\n",
       "      <th>B</th>\n",
       "    </tr>\n",
       "  </thead>\n",
       "  <tbody>\n",
       "    <tr>\n",
       "      <th>0</th>\n",
       "      <td>Student_84</td>\n",
       "      <td>100</td>\n",
       "    </tr>\n",
       "    <tr>\n",
       "      <th>1</th>\n",
       "      <td>Student_31</td>\n",
       "      <td>93</td>\n",
       "    </tr>\n",
       "    <tr>\n",
       "      <th>2</th>\n",
       "      <td>Student_57</td>\n",
       "      <td>62</td>\n",
       "    </tr>\n",
       "    <tr>\n",
       "      <th>3</th>\n",
       "      <td>Student_25</td>\n",
       "      <td>60</td>\n",
       "    </tr>\n",
       "    <tr>\n",
       "      <th>4</th>\n",
       "      <td>Student_17</td>\n",
       "      <td>98</td>\n",
       "    </tr>\n",
       "  </tbody>\n",
       "</table>\n",
       "</div>"
      ],
      "text/plain": [
       "            A    B\n",
       "0  Student_84  100\n",
       "1  Student_31   93\n",
       "2  Student_57   62\n",
       "3  Student_25   60\n",
       "4  Student_17   98"
      ]
     },
     "execution_count": 8,
     "metadata": {},
     "output_type": "execute_result"
    }
   ],
   "source": [
    "df2.head()"
   ]
  },
  {
   "cell_type": "code",
   "execution_count": 9,
   "metadata": {},
   "outputs": [
    {
     "data": {
      "image/png": "[encoded data removed]",
      "text/plain": [
       "<Figure size 640x480 with 1 Axes>"
      ]
     },
     "metadata": {},
     "output_type": "display_data"
    }
   ],
   "source": [
    "# defining points\n",
    "x=list(df1.sort_values('A')['B'])\n",
    "y=list(df2.sort_values('A')['B'])\n",
    "\n",
    "# getting color\n",
    "colors=[]\n",
    "for i in range(len(x)):\n",
    "    if(x[i]>=80 and y[i]>=80):\n",
    "        colors.append('green')\n",
    "    else:\n",
    "        colors.append('yellow')\n",
    "\n",
    "# plotting\n",
    "plt.figure()\n",
    "plt.scatter(x,y,c=colors)\n",
    "plt.show()\n"
   ]
  },
  {
   "cell_type": "markdown",
   "metadata": {},
   "source": [
    "## Task 3"
   ]
  },
  {
   "cell_type": "code",
   "execution_count": 10,
   "metadata": {},
   "outputs": [
    {
     "data": {
      "image/png": "[encoded data removed]",
      "text/plain": [
       "<Figure size 640x480 with 1 Axes>"
      ]
     },
     "metadata": {},
     "output_type": "display_data"
    }
   ],
   "source": [
    "# defining points\n",
    "points=np.random.randint(1,100,(2,100))\n",
    "x=points[0]\n",
    "y=points[1]\n",
    "\n",
    "# getting color\n",
    "colors=[]\n",
    "for i in range(len(x)):\n",
    "    dist=(x[i]-50)**2 + (y[i]-50)**2 - 400\n",
    "    if(dist<=0):\n",
    "        colors.append('red')\n",
    "    else:\n",
    "        colors.append('green')\n",
    "\n",
    "# plotting\n",
    "plt.figure()\n",
    "plt.scatter(x,y,c=colors)\n",
    "plt.scatter(50,50, c='b', marker='x') # centre\n",
    "plt.show()"
   ]
  },
  {
   "cell_type": "markdown",
   "metadata": {},
   "source": [
    "## Task 4"
   ]
  },
  {
   "cell_type": "code",
   "execution_count": 12,
   "metadata": {},
   "outputs": [
    {
     "data": {
      "image/png": "[encoded data removed]",
      "text/plain": [
       "<Figure size 640x480 with 1 Axes>"
      ]
     },
     "metadata": {},
     "output_type": "display_data"
    }
   ],
   "source": [
    "# defining points\n",
    "points=np.random.randint(1,100,(2,100))\n",
    "x=points[0]\n",
    "y=points[1]\n",
    "\n",
    "\n",
    "\n",
    "# taking input\n",
    "x_cir=int(input(\"x value of circle\"))\n",
    "y_cir=int(input(\"y value of circle\"))\n",
    "r_cir=int(input(\"radius of circle\"))\n",
    "\n",
    "hi=[]\n",
    "bye=[]\n",
    "\n",
    "# getting color\n",
    "colors=[]\n",
    "for i in range(len(x)):\n",
    "    dist=(x[i]-x_cir)**2 + (y[i]-y_cir)**2 - r_cir**2\n",
    "    if(dist<=0):\n",
    "        colors.append('red')\n",
    "        hi.append([x[i]])\n",
    "        bye.append(y[i])\n",
    "    else:\n",
    "        colors.append('green')\n",
    "\n",
    "data={'index':range(len(hi)), 'x':hi, 'y':bye}\n",
    "df=pd.DataFrame(data)\n",
    "df.to_csv(\"circle_data.csv\",index=False)\n",
    "\n",
    "# plotting\n",
    "fig= plt.figure()\n",
    "plt.scatter(x,y,c=colors)\n",
    "plt.scatter(x_cir, y_cir, c='b', marker='x') # centre\n",
    "plt.show()"
   ]
  },
  {
   "cell_type": "markdown",
   "metadata": {},
   "source": [
    "## Task 5"
   ]
  },
  {
   "cell_type": "code",
   "execution_count": null,
   "metadata": {},
   "outputs": [
    {
     "data": {
      "text/html": [
       "<div>\n",
       "<style scoped>\n",
       "    .dataframe tbody tr th:only-of-type {\n",
       "        vertical-align: middle;\n",
       "    }\n",
       "\n",
       "    .dataframe tbody tr th {\n",
       "        vertical-align: top;\n",
       "    }\n",
       "\n",
       "    .dataframe thead th {\n",
       "        text-align: right;\n",
       "    }\n",
       "</style>\n",
       "<table border=\"1\" class=\"dataframe\">\n",
       "  <thead>\n",
       "    <tr style=\"text-align: right;\">\n",
       "      <th></th>\n",
       "      <th>Id</th>\n",
       "      <th>SepalLengthCm</th>\n",
       "      <th>SepalWidthCm</th>\n",
       "      <th>PetalLengthCm</th>\n",
       "      <th>PetalWidthCm</th>\n",
       "      <th>Species</th>\n",
       "    </tr>\n",
       "  </thead>\n",
       "  <tbody>\n",
       "    <tr>\n",
       "      <th>0</th>\n",
       "      <td>1</td>\n",
       "      <td>5.1</td>\n",
       "      <td>3.5</td>\n",
       "      <td>1.4</td>\n",
       "      <td>0.2</td>\n",
       "      <td>Iris-setosa</td>\n",
       "    </tr>\n",
       "    <tr>\n",
       "      <th>1</th>\n",
       "      <td>2</td>\n",
       "      <td>4.9</td>\n",
       "      <td>3.0</td>\n",
       "      <td>1.4</td>\n",
       "      <td>0.2</td>\n",
       "      <td>Iris-setosa</td>\n",
       "    </tr>\n",
       "    <tr>\n",
       "      <th>2</th>\n",
       "      <td>3</td>\n",
       "      <td>4.7</td>\n",
       "      <td>3.2</td>\n",
       "      <td>1.3</td>\n",
       "      <td>0.2</td>\n",
       "      <td>Iris-setosa</td>\n",
       "    </tr>\n",
       "    <tr>\n",
       "      <th>3</th>\n",
       "      <td>4</td>\n",
       "      <td>4.6</td>\n",
       "      <td>3.1</td>\n",
       "      <td>1.5</td>\n",
       "      <td>0.2</td>\n",
       "      <td>Iris-setosa</td>\n",
       "    </tr>\n",
       "    <tr>\n",
       "      <th>4</th>\n",
       "      <td>5</td>\n",
       "      <td>5.0</td>\n",
       "      <td>3.6</td>\n",
       "      <td>1.4</td>\n",
       "      <td>0.2</td>\n",
       "      <td>Iris-setosa</td>\n",
       "    </tr>\n",
       "  </tbody>\n",
       "</table>\n",
       "</div>"
      ],
      "text/plain": [
       "   Id  SepalLengthCm  SepalWidthCm  PetalLengthCm  PetalWidthCm      Species\n",
       "0   1            5.1           3.5            1.4           0.2  Iris-setosa\n",
       "1   2            4.9           3.0            1.4           0.2  Iris-setosa\n",
       "2   3            4.7           3.2            1.3           0.2  Iris-setosa\n",
       "3   4            4.6           3.1            1.5           0.2  Iris-setosa\n",
       "4   5            5.0           3.6            1.4           0.2  Iris-setosa"
      ]
     },
     "execution_count": 4,
     "metadata": {},
     "output_type": "execute_result"
    }
   ],
   "source": [
    "df=pd.read_csv(\"Iris.csv\")\n",
    "df.head()"
   ]
  },
  {
   "cell_type": "code",
   "execution_count": null,
   "metadata": {},
   "outputs": [
    {
     "data": {
      "text/plain": [
       "[5.843333333333334, 3.0540000000000003, 3.758666666666666, 1.1986666666666668]"
      ]
     },
     "execution_count": 5,
     "metadata": {},
     "output_type": "execute_result"
    }
   ],
   "source": [
    "# value columns\n",
    "columns=df.select_dtypes(include='float').columns\n",
    "\n",
    "# mean vector\n",
    "mu=[]\n",
    "for i in columns:\n",
    "    mu.append(df[i].mean())\n",
    "mu\n"
   ]
  },
  {
   "cell_type": "code",
   "execution_count": null,
   "metadata": {},
   "outputs": [
    {
     "name": "stderr",
     "output_type": "stream",
     "text": [
      "C:\\Users\\student\\AppData\\Local\\Temp\\ipykernel_7624\\3721887664.py:8: UserWarning: Boolean Series key will be reindexed to match DataFrame index.\n",
      "  df1=sorted_df[df['Species']=='Iris-setosa'].head(2)\n",
      "C:\\Users\\student\\AppData\\Local\\Temp\\ipykernel_7624\\3721887664.py:9: UserWarning: Boolean Series key will be reindexed to match DataFrame index.\n",
      "  df2=sorted_df[df['Species']=='Iris-versicolor'].head(2)\n",
      "C:\\Users\\student\\AppData\\Local\\Temp\\ipykernel_7624\\3721887664.py:10: UserWarning: Boolean Series key will be reindexed to match DataFrame index.\n",
      "  df3=sorted_df[df['Species']=='Iris-virginica'].head(2)\n"
     ]
    },
    {
     "data": {
      "text/html": [
       "<div>\n",
       "<style scoped>\n",
       "    .dataframe tbody tr th:only-of-type {\n",
       "        vertical-align: middle;\n",
       "    }\n",
       "\n",
       "    .dataframe tbody tr th {\n",
       "        vertical-align: top;\n",
       "    }\n",
       "\n",
       "    .dataframe thead th {\n",
       "        text-align: right;\n",
       "    }\n",
       "</style>\n",
       "<table border=\"1\" class=\"dataframe\">\n",
       "  <thead>\n",
       "    <tr style=\"text-align: right;\">\n",
       "      <th></th>\n",
       "      <th>Id</th>\n",
       "      <th>SepalLengthCm</th>\n",
       "      <th>SepalWidthCm</th>\n",
       "      <th>PetalLengthCm</th>\n",
       "      <th>PetalWidthCm</th>\n",
       "      <th>Species</th>\n",
       "      <th>closeness</th>\n",
       "    </tr>\n",
       "  </thead>\n",
       "  <tbody>\n",
       "    <tr>\n",
       "      <th>0</th>\n",
       "      <td>45</td>\n",
       "      <td>5.1</td>\n",
       "      <td>3.8</td>\n",
       "      <td>1.9</td>\n",
       "      <td>0.4</td>\n",
       "      <td>Iris-setosa</td>\n",
       "      <td>5.201571</td>\n",
       "    </tr>\n",
       "    <tr>\n",
       "      <th>1</th>\n",
       "      <td>24</td>\n",
       "      <td>5.1</td>\n",
       "      <td>3.3</td>\n",
       "      <td>1.7</td>\n",
       "      <td>0.5</td>\n",
       "      <td>Iris-setosa</td>\n",
       "      <td>5.339304</td>\n",
       "    </tr>\n",
       "    <tr>\n",
       "      <th>2</th>\n",
       "      <td>65</td>\n",
       "      <td>5.6</td>\n",
       "      <td>2.9</td>\n",
       "      <td>3.6</td>\n",
       "      <td>1.3</td>\n",
       "      <td>Iris-versicolor</td>\n",
       "      <td>0.118371</td>\n",
       "    </tr>\n",
       "    <tr>\n",
       "      <th>3</th>\n",
       "      <td>83</td>\n",
       "      <td>5.8</td>\n",
       "      <td>2.7</td>\n",
       "      <td>3.9</td>\n",
       "      <td>1.2</td>\n",
       "      <td>Iris-versicolor</td>\n",
       "      <td>0.147171</td>\n",
       "    </tr>\n",
       "    <tr>\n",
       "      <th>4</th>\n",
       "      <td>139</td>\n",
       "      <td>6.0</td>\n",
       "      <td>3.0</td>\n",
       "      <td>4.8</td>\n",
       "      <td>1.8</td>\n",
       "      <td>Iris-virginica</td>\n",
       "      <td>1.473437</td>\n",
       "    </tr>\n",
       "    <tr>\n",
       "      <th>5</th>\n",
       "      <td>127</td>\n",
       "      <td>6.2</td>\n",
       "      <td>2.8</td>\n",
       "      <td>4.8</td>\n",
       "      <td>1.8</td>\n",
       "      <td>Iris-virginica</td>\n",
       "      <td>1.637704</td>\n",
       "    </tr>\n",
       "  </tbody>\n",
       "</table>\n",
       "</div>"
      ],
      "text/plain": [
       "    Id  SepalLengthCm  SepalWidthCm  PetalLengthCm  PetalWidthCm  \\\n",
       "0   45            5.1           3.8            1.9           0.4   \n",
       "1   24            5.1           3.3            1.7           0.5   \n",
       "2   65            5.6           2.9            3.6           1.3   \n",
       "3   83            5.8           2.7            3.9           1.2   \n",
       "4  139            6.0           3.0            4.8           1.8   \n",
       "5  127            6.2           2.8            4.8           1.8   \n",
       "\n",
       "           Species  closeness  \n",
       "0      Iris-setosa   5.201571  \n",
       "1      Iris-setosa   5.339304  \n",
       "2  Iris-versicolor   0.118371  \n",
       "3  Iris-versicolor   0.147171  \n",
       "4   Iris-virginica   1.473437  \n",
       "5   Iris-virginica   1.637704  "
      ]
     },
     "execution_count": 14,
     "metadata": {},
     "output_type": "execute_result"
    }
   ],
   "source": [
    "# creating closeness column\n",
    "norms=(df[columns]-mu)**2\n",
    "df['closeness']= norms.sum(axis=1)\n",
    "\n",
    "# sorting by closeness column\n",
    "sorted_df=df.sort_values('closeness')\n",
    "\n",
    "df1=sorted_df[df['Species']=='Iris-setosa'].head(2)\n",
    "df2=sorted_df[df['Species']=='Iris-versicolor'].head(2)\n",
    "df3=sorted_df[df['Species']=='Iris-virginica'].head(2)\n",
    "\n",
    "pd.concat([df1,df2, df3], ignore_index=True)"
   ]
  }
 ],
 "metadata": {
  "kernelspec": {
   "display_name": "Python 3",
   "language": "python",
   "name": "python3"
  },
  "language_info": {
   "codemirror_mode": {
    "name": "ipython",
    "version": 3
   },
   "file_extension": ".py",
   "mimetype": "text/x-python",
   "name": "python",
   "nbconvert_exporter": "python",
   "pygments_lexer": "ipython3",
   "version": "3.12.2"
  }
 },
 "nbformat": 4,
 "nbformat_minor": 2
}
